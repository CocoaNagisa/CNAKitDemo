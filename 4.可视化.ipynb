{
 "cells": [
  {
   "cell_type": "code",
   "execution_count": 1,
   "metadata": {},
   "outputs": [],
   "source": [
    "import re\n",
    "import pandas as pd"
   ]
  },
  {
   "cell_type": "code",
   "execution_count": 6,
   "metadata": {},
   "outputs": [],
   "source": [
    "data_name = '沈阳市科学技术局'  # '沈阳市科学技术局'  '沈阳市人民政府' '沈阳市工业和信息化局'"
   ]
  },
  {
   "cell_type": "code",
   "execution_count": 7,
   "metadata": {},
   "outputs": [
    {
     "data": {
      "text/html": [
       "<div>\n",
       "<style scoped>\n",
       "    .dataframe tbody tr th:only-of-type {\n",
       "        vertical-align: middle;\n",
       "    }\n",
       "\n",
       "    .dataframe tbody tr th {\n",
       "        vertical-align: top;\n",
       "    }\n",
       "\n",
       "    .dataframe thead th {\n",
       "        text-align: right;\n",
       "    }\n",
       "</style>\n",
       "<table border=\"1\" class=\"dataframe\">\n",
       "  <thead>\n",
       "    <tr style=\"text-align: right;\">\n",
       "      <th></th>\n",
       "      <th>title</th>\n",
       "      <th>content</th>\n",
       "      <th>Seg</th>\n",
       "      <th>Lac</th>\n",
       "      <th>segments</th>\n",
       "      <th>publish_time</th>\n",
       "      <th>PER</th>\n",
       "      <th>LOC</th>\n",
       "      <th>ORG</th>\n",
       "      <th>TIME</th>\n",
       "      <th>TongZhi</th>\n",
       "      <th>JieDu</th>\n",
       "      <th>DaFu</th>\n",
       "      <th>PiFu</th>\n",
       "      <th>contact_person</th>\n",
       "      <th>contact_number</th>\n",
       "      <th>Policy</th>\n",
       "    </tr>\n",
       "  </thead>\n",
       "  <tbody>\n",
       "    <tr>\n",
       "      <td>0</td>\n",
       "      <td>标题：关于印发国家科技部2019年出国（境）培训项目计划的通知(沈科发〔2019〕31号) ...</td>\n",
       "      <td>沈科发〔2019〕31号经国家科技部批准，你单位申报的2019年出国（境）培训项目计划经初审...</td>\n",
       "      <td>沈科发/ 〔/ 2019/ 〕/ 31号/ 经/ 国家/ 科技部/ 批准/ ，/ 你/ 单位...</td>\n",
       "      <td>沈科发(PER)/ 〔(w)/ 2019(m)/ 〕(w)/ 31号(m)/ 经(p)/ 国...</td>\n",
       "      <td>['沈科发/ 〔/ 2019/ 〕/ 31号/ 经/ 国家科技部/ 批准/ ，/ 你/ 单位...</td>\n",
       "      <td>2019-06-14</td>\n",
       "      <td>['沈科发', '张楠']</td>\n",
       "      <td>['None']</td>\n",
       "      <td>['国家科技部', '国家外专局', '沈阳市外国专家局']</td>\n",
       "      <td>['2019年', '现', '2019年', '2019年12月10日', '2019年1...</td>\n",
       "      <td>印发国家科技部2019年出国（境）培训项目计划的通知</td>\n",
       "      <td>None</td>\n",
       "      <td>None</td>\n",
       "      <td>None</td>\n",
       "      <td>张楠</td>\n",
       "      <td>22721526</td>\n",
       "      <td>['None']</td>\n",
       "    </tr>\n",
       "    <tr>\n",
       "      <td>1</td>\n",
       "      <td>标题：关于设立专项奖励加快推进我市科技创新促进高质量发展的建议（第0922号）的答复  时间...</td>\n",
       "      <td>胥维昌代表：你们提出的关于设立专项奖励加快推进我市科技创新促进高质量发展的建议收悉，现答复如...</td>\n",
       "      <td>胥维昌/ 代表/ ：/ 你们/ 提出/ 的/ 关于/ 设立/ 专项/ 奖励/ 加快/ 推进/...</td>\n",
       "      <td>胥维昌(PER)/ 代表(n)/ ：(w)/ 你们(r)/ 提出(v)/ 的(u)/ 关于(...</td>\n",
       "      <td>['胥维昌/ 代表/ ：/ 你们/ 提出/ 的/ 关于/ 设立/ 专项/ 奖励/ 加快/ 推...</td>\n",
       "      <td>2019-04-26</td>\n",
       "      <td>['胥维昌', '沈科发', '沈科发', '曹宇']</td>\n",
       "      <td>['辽宁省', '沈阳市', '辽宁省', '沈阳市', '辽宁省', '沈阳', '辽宁省...</td>\n",
       "      <td>['国务院办公厅', '国务院办公厅', '国务院', '国务院', '辽宁省政府', '中...</td>\n",
       "      <td>['现', '2017年5月31日', '2017年', '2019年', '2015年',...</td>\n",
       "      <td>None</td>\n",
       "      <td>None</td>\n",
       "      <td>设立专项奖励加快推进我市科技创新促进高质量发展的建议（第0922号）</td>\n",
       "      <td>None</td>\n",
       "      <td>曹宇</td>\n",
       "      <td>18940156226</td>\n",
       "      <td>['《国务院办公厅印发关于深化科技奖励制度改革方案的通知》', '《沈阳市技术合同补贴实施细...</td>\n",
       "    </tr>\n",
       "    <tr>\n",
       "      <td>2</td>\n",
       "      <td>标题：沈阳市科学技术局关于同意注销沈阳科技经济结合促进发展中心的批复(沈科发〔2019〕49...</td>\n",
       "      <td>沈科发〔2019〕49号沈阳科技经济结合促进发展中心：你单位《关于沈阳科技经济结合促进发展中...</td>\n",
       "      <td>沈科发/ 〔/ 2019/ 〕/ 49号/ 沈阳科技经济结合促进发展中心/ ：/ 你/ 单位...</td>\n",
       "      <td>沈科发(PER)/ 〔(w)/ 2019(m)/ 〕(w)/ 49号(m)/ 沈阳科技经济结...</td>\n",
       "      <td>['沈科发/ 〔/ 2019/ 〕/ 49号/ 沈阳科技经济结合促进发展中心/ ：/ 你/ ...</td>\n",
       "      <td>2019-08-05</td>\n",
       "      <td>['沈科发']</td>\n",
       "      <td>['沈阳']</td>\n",
       "      <td>['沈阳科技经济结合促进发展中心', '沈阳科技经济结合促进发展中心', '沈阳科技经济结合...</td>\n",
       "      <td>['2019年8月2日']</td>\n",
       "      <td>None</td>\n",
       "      <td>None</td>\n",
       "      <td>None</td>\n",
       "      <td>同意注销沈阳科技经济结合促进发展中心</td>\n",
       "      <td>None</td>\n",
       "      <td>None</td>\n",
       "      <td>['《关于沈阳科技经济结合促进发展中心申请注销的请示》']</td>\n",
       "    </tr>\n",
       "    <tr>\n",
       "      <td>3</td>\n",
       "      <td>标题：关于印发《沈阳市农民科技示范合作社命名办法》的通知（沈科发〔2018〕68号）  时间...</td>\n",
       "      <td>None</td>\n",
       "      <td>None</td>\n",
       "      <td>None</td>\n",
       "      <td>['None']</td>\n",
       "      <td>2018-09-30</td>\n",
       "      <td>['None']</td>\n",
       "      <td>['None']</td>\n",
       "      <td>['None']</td>\n",
       "      <td>['None']</td>\n",
       "      <td>印发《沈阳市农民科技示范合作社命名办法》的通知</td>\n",
       "      <td>None</td>\n",
       "      <td>None</td>\n",
       "      <td>None</td>\n",
       "      <td>None</td>\n",
       "      <td>None</td>\n",
       "      <td>['None']</td>\n",
       "    </tr>\n",
       "    <tr>\n",
       "      <td>4</td>\n",
       "      <td>标题：关于充分利用沈阳创新资源促进增材制造产业发展的提案（第0358号）的答复  时间：20...</td>\n",
       "      <td>徐岩委员：您提出的关于充分利用沈阳创新资源促进增材制造产业发展的提案收悉。感谢您对我市科技创...</td>\n",
       "      <td>徐岩/ 委员/ ：/ 您/ 提出/ 的/ 关于/ 充分利用/ 沈阳/ 创新/ 资源/ 促进/...</td>\n",
       "      <td>徐岩(PER)/ 委员(n)/ ：(w)/ 您(r)/ 提出(v)/ 的(u)/ 关于(p)...</td>\n",
       "      <td>['徐岩/ 委员/ ：/ 您/ 提出/ 的/ 关于/ 充分利用/ 沈阳/ 创新/ 资源/ 促...</td>\n",
       "      <td>2019-04-26</td>\n",
       "      <td>['徐岩', '沈飞', '周晶']</td>\n",
       "      <td>['沈阳', '沈阳', '沈阳市', '东北', '浑南', '和平区', '沈阳市', ...</td>\n",
       "      <td>['中国科学院金属研究所', '中国科学院沈阳自动化研究所', '沈阳铸造研究所', '沈阳...</td>\n",
       "      <td>['现', '目前', '近年来', '2018年', '现', '现在', '目前', '...</td>\n",
       "      <td>None</td>\n",
       "      <td>None</td>\n",
       "      <td>充分利用沈阳创新资源促进增材制造产业发展的提案（第0358号）</td>\n",
       "      <td>None</td>\n",
       "      <td>周晶</td>\n",
       "      <td>13332490333</td>\n",
       "      <td>['《基于阵列微管精密3D打印的诱导型周围神经修复支架》']</td>\n",
       "    </tr>\n",
       "    <tr>\n",
       "      <td>...</td>\n",
       "      <td>...</td>\n",
       "      <td>...</td>\n",
       "      <td>...</td>\n",
       "      <td>...</td>\n",
       "      <td>...</td>\n",
       "      <td>...</td>\n",
       "      <td>...</td>\n",
       "      <td>...</td>\n",
       "      <td>...</td>\n",
       "      <td>...</td>\n",
       "      <td>...</td>\n",
       "      <td>...</td>\n",
       "      <td>...</td>\n",
       "      <td>...</td>\n",
       "      <td>...</td>\n",
       "      <td>...</td>\n",
       "      <td>...</td>\n",
       "    </tr>\n",
       "    <tr>\n",
       "      <td>246</td>\n",
       "      <td>标题：关于《沈阳市科技计划项目验收实施细则》（试行）的补充规定(沈科发〔2019〕41号) ...</td>\n",
       "      <td>沈科发〔2019〕41号各有关单位：为进一步做好沈阳市科技计划项目验收管理工作，贯彻落实国家...</td>\n",
       "      <td>沈科发/ 〔/ 2019/ 〕/ 41号/ 各/ 有关/ 单位/ ：/ 为/ 进一步/ 做好...</td>\n",
       "      <td>沈科发(PER)/ 〔(w)/ 2019(m)/ 〕(w)/ 41号(m)/ 各(r)/ 有...</td>\n",
       "      <td>['沈科发/ 〔/ 2019/ 〕/ 41号/ 各/ 有关/ 单位/ ：/ 为/ 进一步/ ...</td>\n",
       "      <td>2019-06-27</td>\n",
       "      <td>['沈科发']</td>\n",
       "      <td>['沈阳市', '沈阳市', '沈阳市']</td>\n",
       "      <td>['应报科技局', '沈阳市科学技术局']</td>\n",
       "      <td>['现', '2019年', '月底', '2019年12月31', '日前', '2019...</td>\n",
       "      <td>None</td>\n",
       "      <td>None</td>\n",
       "      <td>None</td>\n",
       "      <td>None</td>\n",
       "      <td>None</td>\n",
       "      <td>None</td>\n",
       "      <td>['《沈阳市科技计划项目验收实施细则》']</td>\n",
       "    </tr>\n",
       "    <tr>\n",
       "      <td>247</td>\n",
       "      <td>标题：市科技局关于备案2019年沈阳市技术转移机构的通知（沈科发〔2019〕69号）  时间...</td>\n",
       "      <td>None</td>\n",
       "      <td>None</td>\n",
       "      <td>None</td>\n",
       "      <td>['None']</td>\n",
       "      <td>2019-12-13</td>\n",
       "      <td>['None']</td>\n",
       "      <td>['None']</td>\n",
       "      <td>['None']</td>\n",
       "      <td>['None']</td>\n",
       "      <td>备案2019年沈阳市技术转移机构的通知</td>\n",
       "      <td>None</td>\n",
       "      <td>None</td>\n",
       "      <td>None</td>\n",
       "      <td>None</td>\n",
       "      <td>None</td>\n",
       "      <td>['None']</td>\n",
       "    </tr>\n",
       "    <tr>\n",
       "      <td>248</td>\n",
       "      <td>标题：马忠胜  时间：2020-05-18  来源：政策</td>\n",
       "      <td>马忠胜，男，1970年9月出生，中共党员，1993年1月入党，1994年8月参加工作，大学学...</td>\n",
       "      <td>马忠胜/ ，/ 男/ ，/ 1970年/ 9月/ 出生/ ，/ 中共党员/ ，/ 1993年...</td>\n",
       "      <td>马忠胜(PER)/ ，(w)/ 男(a)/ ，(w)/ 1970年(TIME)/ 9月(TI...</td>\n",
       "      <td>['马忠胜/ ，/ 男/ ，/ 1970年/ 9月/ 出生/ ，/ 中共党员/ ，/ 199...</td>\n",
       "      <td>2020-05-18</td>\n",
       "      <td>['马忠胜']</td>\n",
       "      <td>['沈阳市', '沈河区', '青年大街', '沈阳市', '沈阳市']</td>\n",
       "      <td>['沈阳市科学技术局', '沈阳工业学院', '沈阳市科技资产评估事务所', '沈阳市科学技...</td>\n",
       "      <td>['1970年', '9月', '1993年', '1月', '1994年', '8月', ...</td>\n",
       "      <td>None</td>\n",
       "      <td>None</td>\n",
       "      <td>None</td>\n",
       "      <td>None</td>\n",
       "      <td>None</td>\n",
       "      <td>024-23768199</td>\n",
       "      <td>['None']</td>\n",
       "    </tr>\n",
       "    <tr>\n",
       "      <td>249</td>\n",
       "      <td>标题：市科技局关于组织开展瞪羚独角兽企业备案有关工作的通知（2019年度）(沈科发〔2019...</td>\n",
       "      <td>沈科发〔2019〕28号各区、县（市）科技管理部门，沈阳高新区火炬办，沈阳自创区各片区，各有...</td>\n",
       "      <td>沈科发/ 〔/ 2019/ 〕/ 28号/ 各区/ 、/ 县/ （/ 市/ ）/ 科技/ 管...</td>\n",
       "      <td>沈科发(PER)/ 〔(w)/ 2019(m)/ 〕(w)/ 28号(m)/ 各区(n)/ ...</td>\n",
       "      <td>['沈科发/ 〔/ 2019/ 〕/ 28号/ 各区/ 、/ 县/ （/ 市/ ）/ 科技/...</td>\n",
       "      <td>2019-06-05</td>\n",
       "      <td>['沈科发']</td>\n",
       "      <td>['沈阳', '辽宁省', '辽科', '辽宁省', '沈阳', '沈阳', '沈阳市', ...</td>\n",
       "      <td>['沈阳高新区火炬办', '辽科办', '瞪羚', '瞪羚企业', '瞪羚企业', '瞪羚企...</td>\n",
       "      <td>['现', '2019年6月30日', '未来', '最近', '2019年6月4日']</td>\n",
       "      <td>组织开展瞪羚独角兽企业备案有关工作的通知</td>\n",
       "      <td>None</td>\n",
       "      <td>None</td>\n",
       "      <td>None</td>\n",
       "      <td>None</td>\n",
       "      <td>None</td>\n",
       "      <td>['《辽宁省新型创新主体建设工作指引》', '《关于组织开展辽宁省新型创新主体备案有关工作的...</td>\n",
       "    </tr>\n",
       "    <tr>\n",
       "      <td>250</td>\n",
       "      <td>标题：关于强化科技要素配置，助力沈阳乡村振兴的提案（第0069号）的答复  时间：2019-...</td>\n",
       "      <td>市九三学社：贵社提出的《关于强化科技要素配置，助力沈阳乡村振兴的提案》（第0069号）收悉。...</td>\n",
       "      <td>市/ 九三学社/ ：/ 贵社/ 提出/ 的/ 《/ 关于/ 强化/ 科技/ 要素/ 配置/ ...</td>\n",
       "      <td>市(n)/ 九三学社(ORG)/ ：(w)/ 贵社(n)/ 提出(v)/ 的(u)/ 《(w...</td>\n",
       "      <td>['市/ 九三学社/ ：/ 贵社/ 提出/ 的/ 《/ 关于/ 强化/ 科技/ 要素/ 配置...</td>\n",
       "      <td>2019-05-21</td>\n",
       "      <td>['习近平', '习近平', '习近平', '李静']</td>\n",
       "      <td>['沈阳', '沈阳', '沈阳市', '沈阳', '沈阳市', '京沈', '沈', '京...</td>\n",
       "      <td>['九三学社', '九三学社', '农科教', '沈农业科研院所', '挂市外国专家局', ...</td>\n",
       "      <td>['现', '近年来', '今后', '现代', '现代', '今后', '今年', '今年...</td>\n",
       "      <td>None</td>\n",
       "      <td>None</td>\n",
       "      <td>强化科技要素配置，助力沈阳乡村振兴的提案（第0069号）</td>\n",
       "      <td>None</td>\n",
       "      <td>李静</td>\n",
       "      <td>13322449993</td>\n",
       "      <td>['《关于强化科技要素配置，助力沈阳乡村振兴的提案》', '《关于强化科技要素配置，助力沈阳...</td>\n",
       "    </tr>\n",
       "  </tbody>\n",
       "</table>\n",
       "<p>251 rows × 17 columns</p>\n",
       "</div>"
      ],
      "text/plain": [
       "                                                 title  \\\n",
       "0    标题：关于印发国家科技部2019年出国（境）培训项目计划的通知(沈科发〔2019〕31号) ...   \n",
       "1    标题：关于设立专项奖励加快推进我市科技创新促进高质量发展的建议（第0922号）的答复  时间...   \n",
       "2    标题：沈阳市科学技术局关于同意注销沈阳科技经济结合促进发展中心的批复(沈科发〔2019〕49...   \n",
       "3    标题：关于印发《沈阳市农民科技示范合作社命名办法》的通知（沈科发〔2018〕68号）  时间...   \n",
       "4    标题：关于充分利用沈阳创新资源促进增材制造产业发展的提案（第0358号）的答复  时间：20...   \n",
       "..                                                 ...   \n",
       "246  标题：关于《沈阳市科技计划项目验收实施细则》（试行）的补充规定(沈科发〔2019〕41号) ...   \n",
       "247  标题：市科技局关于备案2019年沈阳市技术转移机构的通知（沈科发〔2019〕69号）  时间...   \n",
       "248                       标题：马忠胜  时间：2020-05-18  来源：政策   \n",
       "249  标题：市科技局关于组织开展瞪羚独角兽企业备案有关工作的通知（2019年度）(沈科发〔2019...   \n",
       "250  标题：关于强化科技要素配置，助力沈阳乡村振兴的提案（第0069号）的答复  时间：2019-...   \n",
       "\n",
       "                                               content  \\\n",
       "0    沈科发〔2019〕31号经国家科技部批准，你单位申报的2019年出国（境）培训项目计划经初审...   \n",
       "1    胥维昌代表：你们提出的关于设立专项奖励加快推进我市科技创新促进高质量发展的建议收悉，现答复如...   \n",
       "2    沈科发〔2019〕49号沈阳科技经济结合促进发展中心：你单位《关于沈阳科技经济结合促进发展中...   \n",
       "3                                                 None   \n",
       "4    徐岩委员：您提出的关于充分利用沈阳创新资源促进增材制造产业发展的提案收悉。感谢您对我市科技创...   \n",
       "..                                                 ...   \n",
       "246  沈科发〔2019〕41号各有关单位：为进一步做好沈阳市科技计划项目验收管理工作，贯彻落实国家...   \n",
       "247                                               None   \n",
       "248  马忠胜，男，1970年9月出生，中共党员，1993年1月入党，1994年8月参加工作，大学学...   \n",
       "249  沈科发〔2019〕28号各区、县（市）科技管理部门，沈阳高新区火炬办，沈阳自创区各片区，各有...   \n",
       "250  市九三学社：贵社提出的《关于强化科技要素配置，助力沈阳乡村振兴的提案》（第0069号）收悉。...   \n",
       "\n",
       "                                                   Seg  \\\n",
       "0    沈科发/ 〔/ 2019/ 〕/ 31号/ 经/ 国家/ 科技部/ 批准/ ，/ 你/ 单位...   \n",
       "1    胥维昌/ 代表/ ：/ 你们/ 提出/ 的/ 关于/ 设立/ 专项/ 奖励/ 加快/ 推进/...   \n",
       "2    沈科发/ 〔/ 2019/ 〕/ 49号/ 沈阳科技经济结合促进发展中心/ ：/ 你/ 单位...   \n",
       "3                                                 None   \n",
       "4    徐岩/ 委员/ ：/ 您/ 提出/ 的/ 关于/ 充分利用/ 沈阳/ 创新/ 资源/ 促进/...   \n",
       "..                                                 ...   \n",
       "246  沈科发/ 〔/ 2019/ 〕/ 41号/ 各/ 有关/ 单位/ ：/ 为/ 进一步/ 做好...   \n",
       "247                                               None   \n",
       "248  马忠胜/ ，/ 男/ ，/ 1970年/ 9月/ 出生/ ，/ 中共党员/ ，/ 1993年...   \n",
       "249  沈科发/ 〔/ 2019/ 〕/ 28号/ 各区/ 、/ 县/ （/ 市/ ）/ 科技/ 管...   \n",
       "250  市/ 九三学社/ ：/ 贵社/ 提出/ 的/ 《/ 关于/ 强化/ 科技/ 要素/ 配置/ ...   \n",
       "\n",
       "                                                   Lac  \\\n",
       "0    沈科发(PER)/ 〔(w)/ 2019(m)/ 〕(w)/ 31号(m)/ 经(p)/ 国...   \n",
       "1    胥维昌(PER)/ 代表(n)/ ：(w)/ 你们(r)/ 提出(v)/ 的(u)/ 关于(...   \n",
       "2    沈科发(PER)/ 〔(w)/ 2019(m)/ 〕(w)/ 49号(m)/ 沈阳科技经济结...   \n",
       "3                                                 None   \n",
       "4    徐岩(PER)/ 委员(n)/ ：(w)/ 您(r)/ 提出(v)/ 的(u)/ 关于(p)...   \n",
       "..                                                 ...   \n",
       "246  沈科发(PER)/ 〔(w)/ 2019(m)/ 〕(w)/ 41号(m)/ 各(r)/ 有...   \n",
       "247                                               None   \n",
       "248  马忠胜(PER)/ ，(w)/ 男(a)/ ，(w)/ 1970年(TIME)/ 9月(TI...   \n",
       "249  沈科发(PER)/ 〔(w)/ 2019(m)/ 〕(w)/ 28号(m)/ 各区(n)/ ...   \n",
       "250  市(n)/ 九三学社(ORG)/ ：(w)/ 贵社(n)/ 提出(v)/ 的(u)/ 《(w...   \n",
       "\n",
       "                                              segments publish_time  \\\n",
       "0    ['沈科发/ 〔/ 2019/ 〕/ 31号/ 经/ 国家科技部/ 批准/ ，/ 你/ 单位...   2019-06-14   \n",
       "1    ['胥维昌/ 代表/ ：/ 你们/ 提出/ 的/ 关于/ 设立/ 专项/ 奖励/ 加快/ 推...   2019-04-26   \n",
       "2    ['沈科发/ 〔/ 2019/ 〕/ 49号/ 沈阳科技经济结合促进发展中心/ ：/ 你/ ...   2019-08-05   \n",
       "3                                             ['None']   2018-09-30   \n",
       "4    ['徐岩/ 委员/ ：/ 您/ 提出/ 的/ 关于/ 充分利用/ 沈阳/ 创新/ 资源/ 促...   2019-04-26   \n",
       "..                                                 ...          ...   \n",
       "246  ['沈科发/ 〔/ 2019/ 〕/ 41号/ 各/ 有关/ 单位/ ：/ 为/ 进一步/ ...   2019-06-27   \n",
       "247                                           ['None']   2019-12-13   \n",
       "248  ['马忠胜/ ，/ 男/ ，/ 1970年/ 9月/ 出生/ ，/ 中共党员/ ，/ 199...   2020-05-18   \n",
       "249  ['沈科发/ 〔/ 2019/ 〕/ 28号/ 各区/ 、/ 县/ （/ 市/ ）/ 科技/...   2019-06-05   \n",
       "250  ['市/ 九三学社/ ：/ 贵社/ 提出/ 的/ 《/ 关于/ 强化/ 科技/ 要素/ 配置...   2019-05-21   \n",
       "\n",
       "                             PER  \\\n",
       "0                  ['沈科发', '张楠']   \n",
       "1    ['胥维昌', '沈科发', '沈科发', '曹宇']   \n",
       "2                        ['沈科发']   \n",
       "3                       ['None']   \n",
       "4             ['徐岩', '沈飞', '周晶']   \n",
       "..                           ...   \n",
       "246                      ['沈科发']   \n",
       "247                     ['None']   \n",
       "248                      ['马忠胜']   \n",
       "249                      ['沈科发']   \n",
       "250  ['习近平', '习近平', '习近平', '李静']   \n",
       "\n",
       "                                                   LOC  \\\n",
       "0                                             ['None']   \n",
       "1    ['辽宁省', '沈阳市', '辽宁省', '沈阳市', '辽宁省', '沈阳', '辽宁省...   \n",
       "2                                               ['沈阳']   \n",
       "3                                             ['None']   \n",
       "4    ['沈阳', '沈阳', '沈阳市', '东北', '浑南', '和平区', '沈阳市', ...   \n",
       "..                                                 ...   \n",
       "246                              ['沈阳市', '沈阳市', '沈阳市']   \n",
       "247                                           ['None']   \n",
       "248               ['沈阳市', '沈河区', '青年大街', '沈阳市', '沈阳市']   \n",
       "249  ['沈阳', '辽宁省', '辽科', '辽宁省', '沈阳', '沈阳', '沈阳市', ...   \n",
       "250  ['沈阳', '沈阳', '沈阳市', '沈阳', '沈阳市', '京沈', '沈', '京...   \n",
       "\n",
       "                                                   ORG  \\\n",
       "0                       ['国家科技部', '国家外专局', '沈阳市外国专家局']   \n",
       "1    ['国务院办公厅', '国务院办公厅', '国务院', '国务院', '辽宁省政府', '中...   \n",
       "2    ['沈阳科技经济结合促进发展中心', '沈阳科技经济结合促进发展中心', '沈阳科技经济结合...   \n",
       "3                                             ['None']   \n",
       "4    ['中国科学院金属研究所', '中国科学院沈阳自动化研究所', '沈阳铸造研究所', '沈阳...   \n",
       "..                                                 ...   \n",
       "246                              ['应报科技局', '沈阳市科学技术局']   \n",
       "247                                           ['None']   \n",
       "248  ['沈阳市科学技术局', '沈阳工业学院', '沈阳市科技资产评估事务所', '沈阳市科学技...   \n",
       "249  ['沈阳高新区火炬办', '辽科办', '瞪羚', '瞪羚企业', '瞪羚企业', '瞪羚企...   \n",
       "250  ['九三学社', '九三学社', '农科教', '沈农业科研院所', '挂市外国专家局', ...   \n",
       "\n",
       "                                                  TIME  \\\n",
       "0    ['2019年', '现', '2019年', '2019年12月10日', '2019年1...   \n",
       "1    ['现', '2017年5月31日', '2017年', '2019年', '2015年',...   \n",
       "2                                        ['2019年8月2日']   \n",
       "3                                             ['None']   \n",
       "4    ['现', '目前', '近年来', '2018年', '现', '现在', '目前', '...   \n",
       "..                                                 ...   \n",
       "246  ['现', '2019年', '月底', '2019年12月31', '日前', '2019...   \n",
       "247                                           ['None']   \n",
       "248  ['1970年', '9月', '1993年', '1月', '1994年', '8月', ...   \n",
       "249       ['现', '2019年6月30日', '未来', '最近', '2019年6月4日']   \n",
       "250  ['现', '近年来', '今后', '现代', '现代', '今后', '今年', '今年...   \n",
       "\n",
       "                        TongZhi JieDu                                DaFu  \\\n",
       "0    印发国家科技部2019年出国（境）培训项目计划的通知  None                                None   \n",
       "1                          None  None  设立专项奖励加快推进我市科技创新促进高质量发展的建议（第0922号）   \n",
       "2                          None  None                                None   \n",
       "3       印发《沈阳市农民科技示范合作社命名办法》的通知  None                                None   \n",
       "4                          None  None     充分利用沈阳创新资源促进增材制造产业发展的提案（第0358号）   \n",
       "..                          ...   ...                                 ...   \n",
       "246                        None  None                                None   \n",
       "247         备案2019年沈阳市技术转移机构的通知  None                                None   \n",
       "248                        None  None                                None   \n",
       "249        组织开展瞪羚独角兽企业备案有关工作的通知  None                                None   \n",
       "250                        None  None        强化科技要素配置，助力沈阳乡村振兴的提案（第0069号）   \n",
       "\n",
       "                   PiFu contact_person contact_number  \\\n",
       "0                  None             张楠       22721526   \n",
       "1                  None             曹宇    18940156226   \n",
       "2    同意注销沈阳科技经济结合促进发展中心           None           None   \n",
       "3                  None           None           None   \n",
       "4                  None             周晶    13332490333   \n",
       "..                  ...            ...            ...   \n",
       "246                None           None           None   \n",
       "247                None           None           None   \n",
       "248                None           None   024-23768199   \n",
       "249                None           None           None   \n",
       "250                None             李静    13322449993   \n",
       "\n",
       "                                                Policy  \n",
       "0                                             ['None']  \n",
       "1    ['《国务院办公厅印发关于深化科技奖励制度改革方案的通知》', '《沈阳市技术合同补贴实施细...  \n",
       "2                        ['《关于沈阳科技经济结合促进发展中心申请注销的请示》']  \n",
       "3                                             ['None']  \n",
       "4                       ['《基于阵列微管精密3D打印的诱导型周围神经修复支架》']  \n",
       "..                                                 ...  \n",
       "246                              ['《沈阳市科技计划项目验收实施细则》']  \n",
       "247                                           ['None']  \n",
       "248                                           ['None']  \n",
       "249  ['《辽宁省新型创新主体建设工作指引》', '《关于组织开展辽宁省新型创新主体备案有关工作的...  \n",
       "250  ['《关于强化科技要素配置，助力沈阳乡村振兴的提案》', '《关于强化科技要素配置，助力沈阳...  \n",
       "\n",
       "[251 rows x 17 columns]"
      ]
     },
     "execution_count": 7,
     "metadata": {},
     "output_type": "execute_result"
    }
   ],
   "source": [
    "data = pd.read_csv(r'data/{}/NER_{}.csv'.format(data_name,data_name), encoding='utf-8', header=0)\n",
    "data"
   ]
  },
  {
   "cell_type": "code",
   "execution_count": 8,
   "metadata": {},
   "outputs": [],
   "source": [
    "import numpy as np\n",
    "from IPython.display import HTML, display\n",
    "import math\n",
    "def highlight(word, r, g, b):\n",
    "    html_color = '#%02X%02X%02X' % (r, g, b)\n",
    "    return '<span style=\"background-color: {}\">{}</span>'.format(html_color, word)\n",
    "\n",
    "\n",
    "def html_title(title, summary):\n",
    "    if summary != 'None':\n",
    "        summ = '(' + summary + ')'\n",
    "        words = re.split(summ, title)\n",
    "        \n",
    "        html = '' \n",
    "        for word in words:\n",
    "            if word == summary:\n",
    "                html += ' ' + highlight(word, 255, 200, 200)\n",
    "            else:\n",
    "                html += ' ' + highlight(word, 255, 255,255)   \n",
    "    else:\n",
    "        html = highlight(title, 255, 255, 255)\n",
    "\n",
    "    return html + \"<br><br>\"\n",
    "\n",
    "def html_content(segments, PER, LOC, ORG, TIME):\n",
    "    \n",
    "    words = segments.split('/ ')\n",
    "    \n",
    "    html = ''\n",
    "    for word in words:\n",
    "        if word in PER:\n",
    "            html += ' ' + highlight(word, 255, 150, 150)\n",
    "        elif word in LOC:\n",
    "            html += ' ' + highlight(word, 0, 255, 255)\n",
    "        elif word in ORG:\n",
    "            html += ' ' + highlight(word, 255, 255, 0)\n",
    "        elif word in TIME:\n",
    "            html += ' ' + highlight(word, 255, 200, 255)\n",
    "        else:\n",
    "            html += ' ' + highlight(word, 255, 255,255) \n",
    "  \n",
    "    return html + \"<br><br>\"\n",
    "\n",
    "def html_index(i):\n",
    "    count = '当前数据 index: {} '.format(i)\n",
    "    html = highlight(count, 255, 200, 200)\n",
    "    return html + \"<br><br>\""
   ]
  },
  {
   "cell_type": "code",
   "execution_count": null,
   "metadata": {
    "scrolled": false
   },
   "outputs": [
    {
     "data": {
      "text/html": [
       " <span style=\"background-color: #FFFFFF\">标题：关于</span> <span style=\"background-color: #FFC8C8\">设立专项奖励加快推进我市科技创新促进高质量发展的建议（第0922号）</span> <span style=\"background-color: #FFFFFF\">的答复  时间：2019-04-26  来源：政策</span><br><br>"
      ],
      "text/plain": [
       "<IPython.core.display.HTML object>"
      ]
     },
     "metadata": {},
     "output_type": "display_data"
    },
    {
     "data": {
      "text/html": [
       " <span style=\"background-color: #FF9696\">胥维昌</span> <span style=\"background-color: #FFFFFF\">代表</span> <span style=\"background-color: #FFFFFF\">：</span> <span style=\"background-color: #FFFFFF\">你们</span> <span style=\"background-color: #FFFFFF\">提出</span> <span style=\"background-color: #FFFFFF\">的</span> <span style=\"background-color: #FFFFFF\">关于</span> <span style=\"background-color: #FFFFFF\">设立</span> <span style=\"background-color: #FFFFFF\">专项</span> <span style=\"background-color: #FFFFFF\">奖励</span> <span style=\"background-color: #FFFFFF\">加快</span> <span style=\"background-color: #FFFFFF\">推进</span> <span style=\"background-color: #FFFFFF\">我</span> <span style=\"background-color: #FFFFFF\">市</span> <span style=\"background-color: #FFFFFF\">科技</span> <span style=\"background-color: #FFFFFF\">创新</span> <span style=\"background-color: #FFFFFF\">促进</span> <span style=\"background-color: #FFFFFF\">高质量</span> <span style=\"background-color: #FFFFFF\">发展</span> <span style=\"background-color: #FFFFFF\">的</span> <span style=\"background-color: #FFFFFF\">建议</span> <span style=\"background-color: #FFFFFF\">收悉</span> <span style=\"background-color: #FFFFFF\">，</span> <span style=\"background-color: #FFC8FF\">现</span> <span style=\"background-color: #FFFFFF\">答复</span> <span style=\"background-color: #FFFFFF\">如下</span> <span style=\"background-color: #FFFFFF\">：</span> <span style=\"background-color: #FFFFFF\">科技</span> <span style=\"background-color: #FFFFFF\">奖励</span> <span style=\"background-color: #FFFFFF\">制度</span> <span style=\"background-color: #FFFFFF\">是</span> <span style=\"background-color: #FFFFFF\">我</span> <span style=\"background-color: #FFFFFF\">国</span> <span style=\"background-color: #FFFFFF\">长期</span> <span style=\"background-color: #FFFFFF\">坚持</span> <span style=\"background-color: #FFFFFF\">的</span> <span style=\"background-color: #FFFFFF\">一项</span> <span style=\"background-color: #FFFFFF\">重要</span> <span style=\"background-color: #FFFFFF\">制度</span> <span style=\"background-color: #FFFFFF\">，</span> <span style=\"background-color: #FFFFFF\">是</span> <span style=\"background-color: #FFFFFF\">党</span> <span style=\"background-color: #FFFFFF\">和</span> <span style=\"background-color: #FFFFFF\">国家</span> <span style=\"background-color: #FFFFFF\">激励</span> <span style=\"background-color: #FFFFFF\">自主创新</span> <span style=\"background-color: #FFFFFF\">、</span> <span style=\"background-color: #FFFFFF\">激发</span> <span style=\"background-color: #FFFFFF\">人才</span> <span style=\"background-color: #FFFFFF\">活力</span> <span style=\"background-color: #FFFFFF\">、</span> <span style=\"background-color: #FFFFFF\">营造</span> <span style=\"background-color: #FFFFFF\">良好</span> <span style=\"background-color: #FFFFFF\">创新</span> <span style=\"background-color: #FFFFFF\">环境</span> <span style=\"background-color: #FFFFFF\">的</span> <span style=\"background-color: #FFFFFF\">一项</span> <span style=\"background-color: #FFFFFF\">重要</span> <span style=\"background-color: #FFFFFF\">举措</span> <span style=\"background-color: #FFFFFF\">。</span><br><br>"
      ],
      "text/plain": [
       "<IPython.core.display.HTML object>"
      ]
     },
     "metadata": {},
     "output_type": "display_data"
    },
    {
     "data": {
      "text/html": [
       " <span style=\"background-color: #FFFFFF\"></span> <span style=\"background-color: #FFC8FF\">2017年5月31日</span> <span style=\"background-color: #FFFFFF\">，</span> <span style=\"background-color: #FFFF00\">国务院办公厅</span> <span style=\"background-color: #FFFFFF\">发布</span> <span style=\"background-color: #FFFFFF\">《</span> <span style=\"background-color: #FFFF00\">国务院办公厅</span> <span style=\"background-color: #FFFFFF\">印发</span> <span style=\"background-color: #FFFFFF\">关于</span> <span style=\"background-color: #FFFFFF\">深化</span> <span style=\"background-color: #FFFFFF\">科技</span> <span style=\"background-color: #FFFFFF\">奖励</span> <span style=\"background-color: #FFFFFF\">制度</span> <span style=\"background-color: #FFFFFF\">改革</span> <span style=\"background-color: #FFFFFF\">方案</span> <span style=\"background-color: #FFFFFF\">的</span> <span style=\"background-color: #FFFFFF\">通知</span> <span style=\"background-color: #FFFFFF\">》</span> <span style=\"background-color: #FFFFFF\">（</span> <span style=\"background-color: #FFFFFF\">国办函</span> <span style=\"background-color: #FFFFFF\">〔</span> <span style=\"background-color: #FFFFFF\">2017</span> <span style=\"background-color: #FFFFFF\">〕</span> <span style=\"background-color: #FFFFFF\">55号</span> <span style=\"background-color: #FFFFFF\">）</span> <span style=\"background-color: #FFFFFF\">，</span> <span style=\"background-color: #FFFFFF\">进一步</span> <span style=\"background-color: #FFFFFF\">改革</span> <span style=\"background-color: #FFFFFF\">完善</span> <span style=\"background-color: #FFFFFF\">国家</span> <span style=\"background-color: #FFFFFF\">科技</span> <span style=\"background-color: #FFFFFF\">奖励</span> <span style=\"background-color: #FFFFFF\">制度</span> <span style=\"background-color: #FFFFFF\">。</span> <span style=\"background-color: #FFFFFF\">通知</span> <span style=\"background-color: #FFFFFF\">中</span> <span style=\"background-color: #FFFFFF\">也</span> <span style=\"background-color: #FFFFFF\">明确</span> <span style=\"background-color: #FFFFFF\">规定</span> <span style=\"background-color: #FFFFFF\">“</span> <span style=\"background-color: #FFFFFF\">省</span> <span style=\"background-color: #FFFFFF\">、</span> <span style=\"background-color: #FFFFFF\">自治区</span> <span style=\"background-color: #FFFFFF\">、</span> <span style=\"background-color: #FFFFFF\">直辖市</span> <span style=\"background-color: #FFFFFF\">人民政府</span> <span style=\"background-color: #FFFFFF\">可</span> <span style=\"background-color: #FFFFFF\">设立</span> <span style=\"background-color: #FFFFFF\">一项</span> <span style=\"background-color: #FFFFFF\">省级</span> <span style=\"background-color: #FFFFFF\">科学技术</span> <span style=\"background-color: #FFFFFF\">奖</span> <span style=\"background-color: #FFFFFF\">（</span> <span style=\"background-color: #FFFFFF\">计划单列市</span> <span style=\"background-color: #FFFFFF\">人民政府</span> <span style=\"background-color: #FFFFFF\">可</span> <span style=\"background-color: #FFFFFF\">单独</span> <span style=\"background-color: #FFFFFF\">设立</span> <span style=\"background-color: #FFFFFF\">一项</span> <span style=\"background-color: #FFFFFF\">）</span> <span style=\"background-color: #FFFFFF\">，</span> <span style=\"background-color: #FFFF00\">国务院</span> <span style=\"background-color: #FFFFFF\">有关部门</span> <span style=\"background-color: #FFFFFF\">根据</span> <span style=\"background-color: #FFFFFF\">国防</span> <span style=\"background-color: #FFFFFF\">、</span> <span style=\"background-color: #FFFFFF\">国家安全</span> <span style=\"background-color: #FFFFFF\">的</span> <span style=\"background-color: #FFFFFF\">特殊</span> <span style=\"background-color: #FFFFFF\">情况</span> <span style=\"background-color: #FFFFFF\">可</span> <span style=\"background-color: #FFFFFF\">设立</span> <span style=\"background-color: #FFFFFF\">部级</span> <span style=\"background-color: #FFFFFF\">科学技术</span> <span style=\"background-color: #FFFFFF\">奖</span> <span style=\"background-color: #FFFFFF\">。</span><br><br>"
      ],
      "text/plain": [
       "<IPython.core.display.HTML object>"
      ]
     },
     "metadata": {},
     "output_type": "display_data"
    },
    {
     "data": {
      "text/html": [
       " <span style=\"background-color: #FFFFFF\"></span> <span style=\"background-color: #FFFFFF\">除此之外</span> <span style=\"background-color: #FFFFFF\">，</span> <span style=\"background-color: #FFFF00\">国务院</span> <span style=\"background-color: #FFFFFF\">其他</span> <span style=\"background-color: #FFFFFF\">部门</span> <span style=\"background-color: #FFFFFF\">、</span> <span style=\"background-color: #FFFFFF\">省级</span> <span style=\"background-color: #FFFFFF\">人民政府</span> <span style=\"background-color: #FFFFFF\">所属</span> <span style=\"background-color: #FFFFFF\">部门</span> <span style=\"background-color: #FFFFFF\">、</span> <span style=\"background-color: #FFFFFF\">省级</span> <span style=\"background-color: #FFFFFF\">以下</span> <span style=\"background-color: #FFFFFF\">各级</span> <span style=\"background-color: #FFFFFF\">人民政府</span> <span style=\"background-color: #FFFFFF\">及其</span> <span style=\"background-color: #FFFFFF\">所属</span> <span style=\"background-color: #FFFFFF\">部门</span> <span style=\"background-color: #FFFFFF\">，</span> <span style=\"background-color: #FFFFFF\">其他</span> <span style=\"background-color: #FFFFFF\">列入</span> <span style=\"background-color: #FFFFFF\">公务员法</span> <span style=\"background-color: #FFFFFF\">实施</span> <span style=\"background-color: #FFFFFF\">范围</span> <span style=\"background-color: #FFFFFF\">的</span> <span style=\"background-color: #FFFFFF\">机关</span> <span style=\"background-color: #FFFFFF\">，</span> <span style=\"background-color: #FFFFFF\">以及</span> <span style=\"background-color: #FFFFFF\">参照</span> <span style=\"background-color: #FFFFFF\">公务员法</span> <span style=\"background-color: #FFFFFF\">管理</span> <span style=\"background-color: #FFFFFF\">的</span> <span style=\"background-color: #FFFFFF\">机关</span> <span style=\"background-color: #FFFFFF\">（</span> <span style=\"background-color: #FFFFFF\">单位</span> <span style=\"background-color: #FFFFFF\">）</span> <span style=\"background-color: #FFFFFF\">，</span> <span style=\"background-color: #FFFFFF\">不得</span> <span style=\"background-color: #FFFFFF\">设</span> <span style=\"background-color: #FFFFFF\">立</span> <span style=\"background-color: #FFFFFF\">由</span> <span style=\"background-color: #FFFFFF\">财政</span> <span style=\"background-color: #FFFFFF\">出资</span> <span style=\"background-color: #FFFFFF\">的</span> <span style=\"background-color: #FFFFFF\">科学技术</span> <span style=\"background-color: #FFFFFF\">奖</span> <span style=\"background-color: #FFFFFF\">。</span> <span style=\"background-color: #FFFFFF\">”</span> <span style=\"background-color: #FFFFFF\">因此</span> <span style=\"background-color: #FFFFFF\">，</span> <span style=\"background-color: #FFFFFF\">从</span> <span style=\"background-color: #FFC8FF\">2017年</span> <span style=\"background-color: #FFFFFF\">我</span> <span style=\"background-color: #FFFFFF\">市</span> <span style=\"background-color: #FFFFFF\">取消</span> <span style=\"background-color: #FFFFFF\">了</span> <span style=\"background-color: #FFFFFF\">各类</span> <span style=\"background-color: #FFFFFF\">市级</span> <span style=\"background-color: #FFFFFF\">科技</span> <span style=\"background-color: #FFFFFF\">奖励</span> <span style=\"background-color: #FFFFFF\">，</span> <span style=\"background-color: #FFFFFF\">组织</span> <span style=\"background-color: #FFFFFF\">推荐</span> <span style=\"background-color: #00FFFF\">辽宁省</span> <span style=\"background-color: #FFFFFF\">科技</span> <span style=\"background-color: #FFFFFF\">奖励</span> <span style=\"background-color: #FFFFFF\">。</span><br><br>"
      ],
      "text/plain": [
       "<IPython.core.display.HTML object>"
      ]
     },
     "metadata": {},
     "output_type": "display_data"
    },
    {
     "data": {
      "text/html": [
       " <span style=\"background-color: #FFFFFF\"></span> <span style=\"background-color: #FFC8FF\">2019年</span> <span style=\"background-color: #FFFFFF\">在</span> <span style=\"background-color: #FFFF00\">辽宁省政府</span> <span style=\"background-color: #FFFFFF\">召开</span> <span style=\"background-color: #FFFFFF\">的</span> <span style=\"background-color: #FFFFFF\">全省</span> <span style=\"background-color: #FFFFFF\">科学技术</span> <span style=\"background-color: #FFFFFF\">奖励</span> <span style=\"background-color: #FFFFFF\">大会</span> <span style=\"background-color: #FFFFFF\">上</span> <span style=\"background-color: #FFFFFF\">，</span> <span style=\"background-color: #00FFFF\">沈阳市</span> <span style=\"background-color: #FFFFFF\">共有</span> <span style=\"background-color: #FFFFFF\">97个</span> <span style=\"background-color: #FFFFFF\">项目</span> <span style=\"background-color: #FFFFFF\">荣获</span> <span style=\"background-color: #FFFFFF\">2018</span> <span style=\"background-color: #FFFFFF\">年度</span> <span style=\"background-color: #00FFFF\">辽宁省</span> <span style=\"background-color: #FFFFFF\">科学技术</span> <span style=\"background-color: #FFFFFF\">奖</span> <span style=\"background-color: #FFFFFF\">，</span> <span style=\"background-color: #FFFFFF\">占</span> <span style=\"background-color: #FFFFFF\">全省</span> <span style=\"background-color: #FFFFFF\">授奖</span> <span style=\"background-color: #FFFFFF\">总数</span> <span style=\"background-color: #FFFFFF\">的</span> <span style=\"background-color: #FFFFFF\">48.5%</span> <span style=\"background-color: #FFFFFF\">。</span> <span style=\"background-color: #00FFFF\">沈阳市</span> <span style=\"background-color: #FFFFFF\">获得</span> <span style=\"background-color: #FFFFFF\">一等奖</span> <span style=\"background-color: #FFFFFF\">12项</span> <span style=\"background-color: #FFFFFF\">、</span> <span style=\"background-color: #FFFFFF\">二等奖</span> <span style=\"background-color: #FFFFFF\">39项</span> <span style=\"background-color: #FFFFFF\">、</span> <span style=\"background-color: #FFFFFF\">三等奖</span> <span style=\"background-color: #FFFFFF\">46项</span> <span style=\"background-color: #FFFFFF\">，</span> <span style=\"background-color: #FFFFFF\">涵盖</span> <span style=\"background-color: #FFFFFF\">了</span> <span style=\"background-color: #FFFFFF\">自然科学</span> <span style=\"background-color: #FFFFFF\">奖</span> <span style=\"background-color: #FFFFFF\">、</span> <span style=\"background-color: #FFFFFF\">技术</span> <span style=\"background-color: #FFFFFF\">发明奖</span> <span style=\"background-color: #FFFFFF\">和</span> <span style=\"background-color: #FFFFFF\">科技</span> <span style=\"background-color: #FFFFFF\">进步奖</span> <span style=\"background-color: #FFFFFF\">所有</span> <span style=\"background-color: #FFFFFF\">奖项</span> <span style=\"background-color: #FFFFFF\">和</span> <span style=\"background-color: #FFFFFF\">等级</span> <span style=\"background-color: #FFFFFF\">。</span><br><br>"
      ],
      "text/plain": [
       "<IPython.core.display.HTML object>"
      ]
     },
     "metadata": {},
     "output_type": "display_data"
    },
    {
     "data": {
      "text/html": [
       " <span style=\"background-color: #FFFFFF\"></span> <span style=\"background-color: #FFFF00\">中科院金属研究所</span> <span style=\"background-color: #FFFFFF\">“</span> <span style=\"background-color: #FFFFFF\">高性能</span> <span style=\"background-color: #FFFFFF\">碳基</span> <span style=\"background-color: #FFFFFF\">储能</span> <span style=\"background-color: #FFFFFF\">材料</span> <span style=\"background-color: #FFFFFF\">及其</span> <span style=\"background-color: #FFFFFF\">器件</span> <span style=\"background-color: #FFFFFF\">的</span> <span style=\"background-color: #FFFFFF\">研究</span> <span style=\"background-color: #FFFFFF\">”</span> <span style=\"background-color: #FFFFFF\">、</span> <span style=\"background-color: #FFFF00\">辽宁中医药大学</span> <span style=\"background-color: #FFFFFF\">“</span> <span style=\"background-color: #FFFFFF\">干细胞</span> <span style=\"background-color: #FFFFFF\">修复</span> <span style=\"background-color: #FFFFFF\">、</span> <span style=\"background-color: #FFFFFF\">基因</span> <span style=\"background-color: #FFFFFF\">治疗</span> <span style=\"background-color: #FFFFFF\">与</span> <span style=\"background-color: #FFFFFF\">中药</span> <span style=\"background-color: #FFFFFF\">干预</span> <span style=\"background-color: #FFFFFF\">结合</span> <span style=\"background-color: #FFFFFF\">治疗</span> <span style=\"background-color: #FFFFFF\">中枢</span> <span style=\"background-color: #FFFFFF\">免疫</span> <span style=\"background-color: #FFFFFF\">异常</span> <span style=\"background-color: #FFFFFF\">疾病</span> <span style=\"background-color: #FFFFFF\">的</span> <span style=\"background-color: #FFFFFF\">研究</span> <span style=\"background-color: #FFFFFF\">”</span> <span style=\"background-color: #FFFFFF\">包揽</span> <span style=\"background-color: #FFFFFF\">了</span> <span style=\"background-color: #00FFFF\">辽宁省</span> <span style=\"background-color: #FFFFFF\">自然科学</span> <span style=\"background-color: #FFFFFF\">奖</span> <span style=\"background-color: #FFFFFF\">一等奖</span> <span style=\"background-color: #FFFFFF\">2个</span> <span style=\"background-color: #FFFFFF\">项目</span> <span style=\"background-color: #FFFFFF\">；</span> <span style=\"background-color: #FFFF00\">中科院自动化所</span> <span style=\"background-color: #FFFFFF\">“</span> <span style=\"background-color: #FFFFFF\">海翼水下滑翔机</span> <span style=\"background-color: #FFFFFF\">关键</span> <span style=\"background-color: #FFFFFF\">技术</span> <span style=\"background-color: #FFFFFF\">与</span> <span style=\"background-color: #FFFFFF\">应用</span> <span style=\"background-color: #FFFFFF\">”</span> <span style=\"background-color: #FFFFFF\">、</span> <span style=\"background-color: #FFFF00\">中科院</span> <span style=\"background-color: #00FFFF\">沈阳</span> <span style=\"background-color: #FFFFFF\">应用</span> <span style=\"background-color: #FFFFFF\">生态</span> <span style=\"background-color: #FFFFFF\">所</span> <span style=\"background-color: #FFFFFF\">“</span> <span style=\"background-color: #FFFFFF\">有机</span> <span style=\"background-color: #FFFFFF\">污染</span> <span style=\"background-color: #FFFFFF\">土壤</span> <span style=\"background-color: #FFFFFF\">电动</span> <span style=\"background-color: #FFFFFF\">—</span> <span style=\"background-color: #FFFFFF\">生物</span> <span style=\"background-color: #FFFFFF\">协同</span> <span style=\"background-color: #FFFFFF\">修复</span> <span style=\"background-color: #FFFFFF\">技术</span> <span style=\"background-color: #FFFFFF\">与</span> <span style=\"background-color: #FFFFFF\">应用</span> <span style=\"background-color: #FFFFFF\">”</span> <span style=\"background-color: #FFFFFF\">、</span> <span style=\"background-color: #FFFF00\">东北大学</span> <span style=\"background-color: #FFFFFF\">“</span> <span style=\"background-color: #FFFFFF\">基于</span> <span style=\"background-color: #FFFFFF\">凝固</span> <span style=\"background-color: #FFFFFF\">组织</span> <span style=\"background-color: #FFFFFF\">高</span> <span style=\"background-color: #FFFFFF\">塑化</span> <span style=\"background-color: #FFFFFF\">表面</span> <span style=\"background-color: #FFFFFF\">无</span> <span style=\"background-color: #FFFFFF\">缺陷</span> <span style=\"background-color: #FFFFFF\">微合金</span> <span style=\"background-color: #FFFFFF\">钢板</span> <span style=\"background-color: #FFFFFF\">坯</span> <span style=\"background-color: #FFFFFF\">连铸</span> <span style=\"background-color: #FFFFFF\">新技术</span> <span style=\"background-color: #FFFFFF\">及</span> <span style=\"background-color: #FFFFFF\">应用</span> <span style=\"background-color: #FFFFFF\">”</span> <span style=\"background-color: #FFFFFF\">、</span> <span style=\"background-color: #FFFF00\">中科院金属研究所</span> <span style=\"background-color: #FFFFFF\">“</span> <span style=\"background-color: #FFFFFF\">高纯净</span> <span style=\"background-color: #FFFFFF\">超厚</span> <span style=\"background-color: #FFFFFF\">尺度</span> <span style=\"background-color: #FFFFFF\">均质</span> <span style=\"background-color: #FFFFFF\">钢</span> <span style=\"background-color: #FFFFFF\">制备</span> <span style=\"background-color: #FFFFFF\">技术</span> <span style=\"background-color: #FFFFFF\">与</span> <span style=\"background-color: #FFFFFF\">应用</span> <span style=\"background-color: #FFFFFF\">”</span> <span style=\"background-color: #FFFFFF\">包揽</span> <span style=\"background-color: #FFFFFF\">了</span> <span style=\"background-color: #00FFFF\">辽宁省</span> <span style=\"background-color: #FFFFFF\">技术</span> <span style=\"background-color: #FFFFFF\">发明</span> <span style=\"background-color: #FFFFFF\">奖</span> <span style=\"background-color: #FFFFFF\">一等奖</span> <span style=\"background-color: #FFFFFF\">4个</span> <span style=\"background-color: #FFFFFF\">项目</span> <span style=\"background-color: #FFFFFF\">。</span><br><br>"
      ],
      "text/plain": [
       "<IPython.core.display.HTML object>"
      ]
     },
     "metadata": {},
     "output_type": "display_data"
    },
    {
     "data": {
      "text/html": [
       " <span style=\"background-color: #FFFFFF\"></span> <span style=\"background-color: #FFFFFF\">在</span> <span style=\"background-color: #FFFFFF\">本次</span> <span style=\"background-color: #FFFFFF\">获奖</span> <span style=\"background-color: #FFFFFF\">的</span> <span style=\"background-color: #FFFFFF\">97个</span> <span style=\"background-color: #FFFFFF\">项目</span> <span style=\"background-color: #FFFFFF\">中</span> <span style=\"background-color: #FFFFFF\">，</span> <span style=\"background-color: #FFFFFF\">有</span> <span style=\"background-color: #FFFFFF\">63个</span> <span style=\"background-color: #FFFFFF\">项目</span> <span style=\"background-color: #FFFFFF\">曾</span> <span style=\"background-color: #FFFFFF\">获得</span> <span style=\"background-color: #FFFFFF\">过</span> <span style=\"background-color: #FFFFFF\">相关</span> <span style=\"background-color: #FFFFFF\">项目</span> <span style=\"background-color: #FFFFFF\">立项</span> <span style=\"background-color: #FFFFFF\">支持</span> <span style=\"background-color: #FFFFFF\">，</span> <span style=\"background-color: #FFFFFF\">占比</span> <span style=\"background-color: #FFFFFF\">达到</span> <span style=\"background-color: #FFFFFF\">65%</span> <span style=\"background-color: #FFFFFF\">，</span> <span style=\"background-color: #FFFFFF\">充分</span> <span style=\"background-color: #FFFFFF\">体现</span> <span style=\"background-color: #FFFFFF\">了</span> <span style=\"background-color: #00FFFF\">沈阳市</span> <span style=\"background-color: #FFFFFF\">科技</span> <span style=\"background-color: #FFFFFF\">计划</span> <span style=\"background-color: #FFFFFF\">对</span> <span style=\"background-color: #FFFFFF\">全市</span> <span style=\"background-color: #FFFFFF\">科技</span> <span style=\"background-color: #FFFFFF\">创新</span> <span style=\"background-color: #FFFFFF\">活动</span> <span style=\"background-color: #FFFFFF\">的</span> <span style=\"background-color: #FFFFFF\">重要</span> <span style=\"background-color: #FFFFFF\">支撑</span> <span style=\"background-color: #FFFFFF\">和</span> <span style=\"background-color: #FFFFFF\">引领</span> <span style=\"background-color: #FFFFFF\">作用</span> <span style=\"background-color: #FFFFFF\">。</span> <span style=\"background-color: #FFC8FF\">2015年</span> <span style=\"background-color: #FFC8FF\">12月</span> <span style=\"background-color: #FFFFFF\">，</span> <span style=\"background-color: #FFFFFF\">市</span> <span style=\"background-color: #FFFFFF\">科技局</span> <span style=\"background-color: #FFFFFF\">印发</span> <span style=\"background-color: #FFFFFF\">《</span> <span style=\"background-color: #00FFFF\">沈阳市</span> <span style=\"background-color: #FFFFFF\">技术</span> <span style=\"background-color: #FFFFFF\">合同</span> <span style=\"background-color: #FFFFFF\">补贴</span> <span style=\"background-color: #FFFFFF\">实施</span> <span style=\"background-color: #FFFFFF\">细则</span> <span style=\"background-color: #FFFFFF\">》</span> <span style=\"background-color: #FFFFFF\">（</span> <span style=\"background-color: #FF9696\">沈科发</span> <span style=\"background-color: #FFFFFF\">[</span> <span style=\"background-color: #FFFFFF\">2015</span> <span style=\"background-color: #FFFFFF\">]</span> <span style=\"background-color: #FFFFFF\">42号</span> <span style=\"background-color: #FFFFFF\">）</span> <span style=\"background-color: #FFFFFF\">，</span> <span style=\"background-color: #FFFFFF\">规定</span> <span style=\"background-color: #FFFFFF\">“</span> <span style=\"background-color: #FFFFFF\">科技</span> <span style=\"background-color: #FFFFFF\">人员</span> <span style=\"background-color: #FFFFFF\">所</span> <span style=\"background-color: #FFFFFF\">持</span> <span style=\"background-color: #FFFFFF\">科研</span> <span style=\"background-color: #FFFFFF\">成果</span> <span style=\"background-color: #FFFFFF\">实现</span> <span style=\"background-color: #FFFFFF\">就地</span> <span style=\"background-color: #FFFFFF\">转化</span> <span style=\"background-color: #FFFFFF\">的</span> <span style=\"background-color: #FFFFFF\">，</span> <span style=\"background-color: #FFFFFF\">经</span> <span style=\"background-color: #FFFFFF\">技术</span> <span style=\"background-color: #FFFFFF\">合同</span> <span style=\"background-color: #FFFFFF\">认定</span> <span style=\"background-color: #FFFFFF\">登记</span> <span style=\"background-color: #FFFFFF\">后</span> <span style=\"background-color: #FFFFFF\">，</span> <span style=\"background-color: #FFFFFF\">按</span> <span style=\"background-color: #FFFFFF\">实际</span> <span style=\"background-color: #FFFFFF\">发生</span> <span style=\"background-color: #FFFFFF\">技术</span> <span style=\"background-color: #FFFFFF\">合同额</span> <span style=\"background-color: #FFFFFF\">的</span> <span style=\"background-color: #FFFFFF\">1%</span> <span style=\"background-color: #FFFFFF\">给予</span> <span style=\"background-color: #FFFFFF\">补贴</span> <span style=\"background-color: #FFFFFF\">，</span> <span style=\"background-color: #FFFFFF\">最高</span> <span style=\"background-color: #FFFFFF\">不</span> <span style=\"background-color: #FFFFFF\">超过</span> <span style=\"background-color: #FFFFFF\">30万元</span> <span style=\"background-color: #FFFFFF\">”</span> <span style=\"background-color: #FFFFFF\">。</span><br><br>"
      ],
      "text/plain": [
       "<IPython.core.display.HTML object>"
      ]
     },
     "metadata": {},
     "output_type": "display_data"
    },
    {
     "data": {
      "text/html": [
       " <span style=\"background-color: #FFFFFF\"></span> <span style=\"background-color: #FFC8FF\">2017年</span> <span style=\"background-color: #FFC8FF\">8月</span> <span style=\"background-color: #FFFFFF\">，</span> <span style=\"background-color: #FFFFFF\">发布</span> <span style=\"background-color: #FFFFFF\">《</span> <span style=\"background-color: #FFFFFF\">关于</span> <span style=\"background-color: #00FFFF\">沈阳市</span> <span style=\"background-color: #FFFFFF\">小微企业</span> <span style=\"background-color: #FFFFFF\">创业</span> <span style=\"background-color: #FFFFFF\">创新</span> <span style=\"background-color: #FFFFFF\">相关</span> <span style=\"background-color: #FFFFFF\">政策</span> <span style=\"background-color: #FFFFFF\">实施</span> <span style=\"background-color: #FFFFFF\">细则</span> <span style=\"background-color: #FFFFFF\">补充</span> <span style=\"background-color: #FFFFFF\">规定</span> <span style=\"background-color: #FFFFFF\">的</span> <span style=\"background-color: #FFFFFF\">通知</span> <span style=\"background-color: #FFFFFF\">》</span> <span style=\"background-color: #FFFFFF\">（</span> <span style=\"background-color: #FF9696\">沈科发</span> <span style=\"background-color: #FFFFFF\">[</span> <span style=\"background-color: #FFFFFF\">2017</span> <span style=\"background-color: #FFFFFF\">]</span> <span style=\"background-color: #FFFFFF\">46号</span> <span style=\"background-color: #FFFFFF\">）</span> <span style=\"background-color: #FFFFFF\">，</span> <span style=\"background-color: #FFFFFF\">将</span> <span style=\"background-color: #FFFFFF\">技术</span> <span style=\"background-color: #FFFFFF\">合同</span> <span style=\"background-color: #FFFFFF\">补贴</span> <span style=\"background-color: #FFFFFF\">标准</span> <span style=\"background-color: #FFFFFF\">由</span> <span style=\"background-color: #FFFFFF\">1%</span> <span style=\"background-color: #FFFFFF\">提高</span> <span style=\"background-color: #FFFFFF\">到</span> <span style=\"background-color: #FFFFFF\">10%</span> <span style=\"background-color: #FFFFFF\">，</span> <span style=\"background-color: #FFFFFF\">加大</span> <span style=\"background-color: #FFFFFF\">力度</span> <span style=\"background-color: #FFFFFF\">提高</span> <span style=\"background-color: #FFFFFF\">奖励</span> <span style=\"background-color: #FFFFFF\">标准</span> <span style=\"background-color: #FFFFFF\">，</span> <span style=\"background-color: #FFFFFF\">极大</span> <span style=\"background-color: #FFFFFF\">的</span> <span style=\"background-color: #FFFFFF\">调动</span> <span style=\"background-color: #FFFFFF\">了</span> <span style=\"background-color: #FFFFFF\">科研</span> <span style=\"background-color: #FFFFFF\">人员</span> <span style=\"background-color: #FFFFFF\">的</span> <span style=\"background-color: #FFFFFF\">积极性</span> <span style=\"background-color: #FFFFFF\">，</span> <span style=\"background-color: #FFFFFF\">更加</span> <span style=\"background-color: #FFFFFF\">有效</span> <span style=\"background-color: #FFFFFF\">的</span> <span style=\"background-color: #FFFFFF\">促进</span> <span style=\"background-color: #FFFFFF\">了</span> <span style=\"background-color: #FFFFFF\">我</span> <span style=\"background-color: #FFFFFF\">市</span> <span style=\"background-color: #FFFFFF\">的</span> <span style=\"background-color: #FFFFFF\">科技</span> <span style=\"background-color: #FFFFFF\">成果</span> <span style=\"background-color: #FFFFFF\">在</span> <span style=\"background-color: #FFFFFF\">本地</span> <span style=\"background-color: #FFFFFF\">转移</span> <span style=\"background-color: #FFFFFF\">转化</span> <span style=\"background-color: #FFFFFF\">。</span><br><br>"
      ],
      "text/plain": [
       "<IPython.core.display.HTML object>"
      ]
     },
     "metadata": {},
     "output_type": "display_data"
    },
    {
     "data": {
      "text/html": [
       " <span style=\"background-color: #FFFFFF\"></span> <span style=\"background-color: #FFFFFF\">该</span> <span style=\"background-color: #FFFFFF\">政策</span> <span style=\"background-color: #FFFFFF\">实施</span> <span style=\"background-color: #FFC8FF\">三年来</span> <span style=\"background-color: #FFFFFF\">，</span> <span style=\"background-color: #FFFFFF\">全市</span> <span style=\"background-color: #FFFFFF\">共有</span> <span style=\"background-color: #FFFFFF\">144家</span> <span style=\"background-color: #FFFFFF\">单位</span> <span style=\"background-color: #FFFFFF\">的</span> <span style=\"background-color: #FFFFFF\">461项</span> <span style=\"background-color: #FFFFFF\">技术</span> <span style=\"background-color: #FFFFFF\">合同</span> <span style=\"background-color: #FFFFFF\">获得</span> <span style=\"background-color: #FFFFFF\">了</span> <span style=\"background-color: #FFFFFF\">补贴</span> <span style=\"background-color: #FFFFFF\">，</span> <span style=\"background-color: #FFFFFF\">发放</span> <span style=\"background-color: #FFFFFF\">补贴</span> <span style=\"background-color: #FFFFFF\">资金</span> <span style=\"background-color: #FFFFFF\">2301.83万元</span> <span style=\"background-color: #FFFFFF\">，</span> <span style=\"background-color: #FFFFFF\">1000多名</span> <span style=\"background-color: #FFFFFF\">科研</span> <span style=\"background-color: #FFFFFF\">人员</span> <span style=\"background-color: #FFFFFF\">获得</span> <span style=\"background-color: #FFFFFF\">了</span> <span style=\"background-color: #FFFFFF\">奖励</span> <span style=\"background-color: #FFFFFF\">，</span> <span style=\"background-color: #FFFFFF\">引导</span> <span style=\"background-color: #FFFFFF\">和</span> <span style=\"background-color: #FFFFFF\">拉动</span> <span style=\"background-color: #FFFFFF\">社会</span> <span style=\"background-color: #FFFFFF\">资金</span> <span style=\"background-color: #FFFFFF\">7.62亿元</span> <span style=\"background-color: #FFFFFF\">投入</span> <span style=\"background-color: #FFFFFF\">我</span> <span style=\"background-color: #FFFFFF\">市</span> <span style=\"background-color: #FFFFFF\">科技</span> <span style=\"background-color: #FFFFFF\">成果</span> <span style=\"background-color: #FFFFFF\">就地</span> <span style=\"background-color: #FFFFFF\">转移</span> <span style=\"background-color: #FFFFFF\">转化</span> <span style=\"background-color: #FFFFFF\">应用</span> <span style=\"background-color: #FFFFFF\">，</span> <span style=\"background-color: #FFFFFF\">取得</span> <span style=\"background-color: #FFFFFF\">了</span> <span style=\"background-color: #FFFFFF\">良好</span> <span style=\"background-color: #FFFFFF\">效果</span> <span style=\"background-color: #FFFFFF\">。</span><br><br>"
      ],
      "text/plain": [
       "<IPython.core.display.HTML object>"
      ]
     },
     "metadata": {},
     "output_type": "display_data"
    },
    {
     "data": {
      "text/html": [
       " <span style=\"background-color: #FFFFFF\"></span> <span style=\"background-color: #FFC8FF\">目前</span> <span style=\"background-color: #FFFFFF\">，</span> <span style=\"background-color: #FFFFFF\">市</span> <span style=\"background-color: #FFFFFF\">科技局</span> <span style=\"background-color: #FFFFFF\">正对</span> <span style=\"background-color: #FFFFFF\">原</span> <span style=\"background-color: #FFFFFF\">《</span> <span style=\"background-color: #00FFFF\">沈阳市</span> <span style=\"background-color: #FFFFFF\">技术</span> <span style=\"background-color: #FFFFFF\">合同</span> <span style=\"background-color: #FFFFFF\">补贴</span> <span style=\"background-color: #FFFFFF\">实施</span> <span style=\"background-color: #FFFFFF\">细则</span> <span style=\"background-color: #FFFFFF\">》</span> <span style=\"background-color: #FFFFFF\">进行</span> <span style=\"background-color: #FFFFFF\">修订</span> <span style=\"background-color: #FFFFFF\">，</span> <span style=\"background-color: #FFFFFF\">进一步</span> <span style=\"background-color: #FFFFFF\">明确</span> <span style=\"background-color: #FFFFFF\">“</span> <span style=\"background-color: #FFFFFF\">补贴</span> <span style=\"background-color: #FFFFFF\">资金</span> <span style=\"background-color: #FFFFFF\">主要</span> <span style=\"background-color: #FFFFFF\">用于</span> <span style=\"background-color: #FFFFFF\">课题组</span> <span style=\"background-color: #FFFFFF\">人员</span> <span style=\"background-color: #FFFFFF\">奖励</span> <span style=\"background-color: #FFFFFF\">”</span> <span style=\"background-color: #FFFFFF\">，</span> <span style=\"background-color: #FFFFFF\">将</span> <span style=\"background-color: #FFFFFF\">更加</span> <span style=\"background-color: #FFFFFF\">有效</span> <span style=\"background-color: #FFFFFF\">的</span> <span style=\"background-color: #FFFFFF\">调动</span> <span style=\"background-color: #FFFFFF\">科研</span> <span style=\"background-color: #FFFFFF\">人员</span> <span style=\"background-color: #FFFFFF\">的</span> <span style=\"background-color: #FFFFFF\">积极性</span> <span style=\"background-color: #FFFFFF\">，</span> <span style=\"background-color: #FFFFFF\">推动</span> <span style=\"background-color: #FFFFFF\">我</span> <span style=\"background-color: #FFFFFF\">市</span> <span style=\"background-color: #FFFFFF\">科技</span> <span style=\"background-color: #FFFFFF\">成果</span> <span style=\"background-color: #FFFFFF\">转化</span> <span style=\"background-color: #FFFFFF\">再创</span> <span style=\"background-color: #FFFFFF\">佳绩</span> <span style=\"background-color: #FFFFFF\">。</span> <span style=\"background-color: #FFFFFF\">市</span> <span style=\"background-color: #FFFFFF\">科技局</span> <span style=\"background-color: #FFFFFF\">落实</span> <span style=\"background-color: #FFFFFF\">“</span> <span style=\"background-color: #FFFFFF\">盛京人才</span> <span style=\"background-color: #FFFFFF\">”</span> <span style=\"background-color: #FFFFFF\">战略</span> <span style=\"background-color: #FFFFFF\">和</span> <span style=\"background-color: #FFFFFF\">人才</span> <span style=\"background-color: #FFFFFF\">新政</span> <span style=\"background-color: #FFFFFF\">24条</span> <span style=\"background-color: #FFFFFF\">，</span> <span style=\"background-color: #FFFFFF\">设立</span> <span style=\"background-color: #FFFFFF\">了</span> <span style=\"background-color: #FFFFFF\">“</span> <span style=\"background-color: #FFFFFF\">中青年</span> <span style=\"background-color: #FFFFFF\">科技</span> <span style=\"background-color: #FFFFFF\">创新</span> <span style=\"background-color: #FFFFFF\">人才</span> <span style=\"background-color: #FFFFFF\">支持</span> <span style=\"background-color: #FFFFFF\">计划</span> <span style=\"background-color: #FFFFFF\">”</span> <span style=\"background-color: #FFFFFF\">“</span> <span style=\"background-color: #FFFFFF\">高层次</span> <span style=\"background-color: #FFFFFF\">人才</span> <span style=\"background-color: #FFFFFF\">成果</span> <span style=\"background-color: #FFFFFF\">转化</span> <span style=\"background-color: #FFFFFF\">补助</span> <span style=\"background-color: #FFFFFF\">资金</span> <span style=\"background-color: #FFFFFF\">”</span> <span style=\"background-color: #FFFFFF\">和</span> <span style=\"background-color: #FFFFFF\">“</span> <span style=\"background-color: #FFFFFF\">高层次</span> <span style=\"background-color: #FFFFFF\">人才</span> <span style=\"background-color: #FFFFFF\">创业</span> <span style=\"background-color: #FFFFFF\">扶持</span> <span style=\"background-color: #FFFFFF\">资金</span> <span style=\"background-color: #FFFFFF\">”</span> <span style=\"background-color: #FFFFFF\">支持</span> <span style=\"background-color: #FFFFFF\">高层次</span> <span style=\"background-color: #FFFFFF\">人才</span> <span style=\"background-color: #FFFFFF\">。</span><br><br>"
      ],
      "text/plain": [
       "<IPython.core.display.HTML object>"
      ]
     },
     "metadata": {},
     "output_type": "display_data"
    },
    {
     "data": {
      "text/html": [
       " <span style=\"background-color: #FFFFFF\"></span> <span style=\"background-color: #FFC8FF\">2018年</span> <span style=\"background-color: #FFFFFF\">核定</span> <span style=\"background-color: #FFFFFF\">资金</span> <span style=\"background-color: #FFFFFF\">计划</span> <span style=\"background-color: #FFFFFF\">3000万元</span> <span style=\"background-color: #FFFFFF\">，</span> <span style=\"background-color: #FFFFFF\">其中</span> <span style=\"background-color: #FFFFFF\">“</span> <span style=\"background-color: #FFFFFF\">中青年</span> <span style=\"background-color: #FFFFFF\">科技</span> <span style=\"background-color: #FFFFFF\">创新</span> <span style=\"background-color: #FFFFFF\">人才</span> <span style=\"background-color: #FFFFFF\">支持</span> <span style=\"background-color: #FFFFFF\">计划</span> <span style=\"background-color: #FFFFFF\">”</span> <span style=\"background-color: #FFFFFF\">1500万元</span> <span style=\"background-color: #FFFFFF\">，</span> <span style=\"background-color: #FFFFFF\">“</span> <span style=\"background-color: #FFFFFF\">高层次</span> <span style=\"background-color: #FFFFFF\">人才</span> <span style=\"background-color: #FFFFFF\">创新</span> <span style=\"background-color: #FFFFFF\">成果</span> <span style=\"background-color: #FFFFFF\">转化</span> <span style=\"background-color: #FFFFFF\">补助</span> <span style=\"background-color: #FFFFFF\">资金</span> <span style=\"background-color: #FFFFFF\">”</span> <span style=\"background-color: #FFFFFF\">1000万元</span> <span style=\"background-color: #FFFFFF\">，</span> <span style=\"background-color: #FFFFFF\">“</span> <span style=\"background-color: #FFFFFF\">高层次</span> <span style=\"background-color: #FFFFFF\">人才</span> <span style=\"background-color: #FFFFFF\">创业</span> <span style=\"background-color: #FFFFFF\">扶持</span> <span style=\"background-color: #FFFFFF\">资金</span> <span style=\"background-color: #FFFFFF\">”</span> <span style=\"background-color: #FFFFFF\">500万元</span> <span style=\"background-color: #FFFFFF\">。</span> <span style=\"background-color: #FFFFFF\">具体</span> <span style=\"background-color: #FFFFFF\">项目</span> <span style=\"background-color: #FFFFFF\">支持</span> <span style=\"background-color: #FFFFFF\">对象</span> <span style=\"background-color: #FFFFFF\">、</span> <span style=\"background-color: #FFFFFF\">条件</span> <span style=\"background-color: #FFFFFF\">及</span> <span style=\"background-color: #FFFFFF\">标准</span> <span style=\"background-color: #FFFFFF\">：</span> <span style=\"background-color: #FFFFFF\">1</span> <span style=\"background-color: #FFFFFF\">.</span> <span style=\"background-color: #FFFFFF\">中青年</span> <span style=\"background-color: #FFFFFF\">科技</span> <span style=\"background-color: #FFFFFF\">创新</span> <span style=\"background-color: #FFFFFF\">人才</span> <span style=\"background-color: #FFFFFF\">支持</span> <span style=\"background-color: #FFFFFF\">计划</span> <span style=\"background-color: #FFFFFF\">。</span><br><br>"
      ],
      "text/plain": [
       "<IPython.core.display.HTML object>"
      ]
     },
     "metadata": {},
     "output_type": "display_data"
    },
    {
     "data": {
      "text/html": [
       " <span style=\"background-color: #FFFFFF\"></span> <span style=\"background-color: #FFFFFF\">重点</span> <span style=\"background-color: #FFFFFF\">支持</span> <span style=\"background-color: #FFFFFF\">本</span> <span style=\"background-color: #FFFFFF\">单位</span> <span style=\"background-color: #FFFFFF\">在岗</span> <span style=\"background-color: #FFFFFF\">在</span> <span style=\"background-color: #FFFFFF\">聘</span> <span style=\"background-color: #FFFFFF\">、</span> <span style=\"background-color: #FFFFFF\">具有</span> <span style=\"background-color: #FFFFFF\">特殊</span> <span style=\"background-color: #FFFFFF\">优秀</span> <span style=\"background-color: #FFFFFF\">的</span> <span style=\"background-color: #FFFFFF\">科技</span> <span style=\"background-color: #FFFFFF\">创新</span> <span style=\"background-color: #FFFFFF\">潜能</span> <span style=\"background-color: #FFFFFF\">、</span> <span style=\"background-color: #FFFFFF\">具有</span> <span style=\"background-color: #FFFFFF\">重要</span> <span style=\"background-color: #FFFFFF\">应用</span> <span style=\"background-color: #FFFFFF\">前景</span> <span style=\"background-color: #FFFFFF\">的</span> <span style=\"background-color: #FFFFFF\">课题</span> <span style=\"background-color: #FFFFFF\">研究</span> <span style=\"background-color: #FFFFFF\">方向</span> <span style=\"background-color: #FFFFFF\">和</span> <span style=\"background-color: #FFFFFF\">技术</span> <span style=\"background-color: #FFFFFF\">路线</span> <span style=\"background-color: #FFFFFF\">、</span> <span style=\"background-color: #FFFFFF\">年龄</span> <span style=\"background-color: #FFFFFF\">在</span> <span style=\"background-color: #FFFFFF\">45周岁</span> <span style=\"background-color: #FFFFFF\">以下</span> <span style=\"background-color: #FFFFFF\">、</span> <span style=\"background-color: #FFFFFF\">主持</span> <span style=\"background-color: #FFFFFF\">或</span> <span style=\"background-color: #FFFFFF\">以</span> <span style=\"background-color: #FFFFFF\">主要</span> <span style=\"background-color: #FFFFFF\">研发者</span> <span style=\"background-color: #FFFFFF\">身份</span> <span style=\"background-color: #FFFFFF\">参与</span> <span style=\"background-color: #FFFFFF\">创新</span> <span style=\"background-color: #FFFFFF\">项目</span> <span style=\"background-color: #FFFFFF\">研发</span> <span style=\"background-color: #FFFFFF\">工作</span> <span style=\"background-color: #FFFFFF\">的</span> <span style=\"background-color: #FFFFFF\">人才</span> <span style=\"background-color: #FFFFFF\">或</span> <span style=\"background-color: #FFFFFF\">团队</span> <span style=\"background-color: #FFFFFF\">。</span> <span style=\"background-color: #FFFFFF\">依据</span> <span style=\"background-color: #FFFFFF\">资金</span> <span style=\"background-color: #FFFFFF\">分配</span> <span style=\"background-color: #FFFFFF\">原则</span> <span style=\"background-color: #FFFFFF\">，</span> <span style=\"background-color: #FFFFFF\">按</span> <span style=\"background-color: #FFFFFF\">专业</span> <span style=\"background-color: #FFFFFF\">分类</span> <span style=\"background-color: #FFFFFF\">评审</span> <span style=\"background-color: #FFFFFF\">结果</span> <span style=\"background-color: #FFFFFF\">和</span> <span style=\"background-color: #FFFFFF\">年度</span> <span style=\"background-color: #FFFFFF\">预算</span> <span style=\"background-color: #FFFFFF\">情况</span> <span style=\"background-color: #FFFFFF\">等</span> <span style=\"background-color: #FFFFFF\">比例</span> <span style=\"background-color: #FFFFFF\">提出</span> <span style=\"background-color: #FFFFFF\">建议</span> <span style=\"background-color: #FFFFFF\">支持</span> <span style=\"background-color: #FFFFFF\">名单</span> <span style=\"background-color: #FFFFFF\">。</span><br><br>"
      ],
      "text/plain": [
       "<IPython.core.display.HTML object>"
      ]
     },
     "metadata": {},
     "output_type": "display_data"
    },
    {
     "data": {
      "text/html": [
       " <span style=\"background-color: #FFFFFF\"></span> <span style=\"background-color: #FFFFFF\">2</span> <span style=\"background-color: #FFFFFF\">.</span> <span style=\"background-color: #FFFFFF\">高层次</span> <span style=\"background-color: #FFFFFF\">人才</span> <span style=\"background-color: #FFFFFF\">成果</span> <span style=\"background-color: #FFFFFF\">转化</span> <span style=\"background-color: #FFFFFF\">补助</span> <span style=\"background-color: #FFFFFF\">资金</span> <span style=\"background-color: #FFFFFF\">。</span> <span style=\"background-color: #FFFFFF\">补助</span> <span style=\"background-color: #FFFFFF\">创造</span> <span style=\"background-color: #FFFFFF\">并</span> <span style=\"background-color: #FFFFFF\">就地</span> <span style=\"background-color: #FFFFFF\">转化</span> <span style=\"background-color: #FFFFFF\">且</span> <span style=\"background-color: #FFFFFF\">取得</span> <span style=\"background-color: #FFFFFF\">较好</span> <span style=\"background-color: #FFFFFF\">经济</span> <span style=\"background-color: #FFFFFF\">和</span> <span style=\"background-color: #FFFFFF\">社会效益</span> <span style=\"background-color: #FFFFFF\">科技</span> <span style=\"background-color: #FFFFFF\">成果</span> <span style=\"background-color: #FFFFFF\">的</span> <span style=\"background-color: #FFFFFF\">高层次</span> <span style=\"background-color: #FFFFFF\">创新</span> <span style=\"background-color: #FFFFFF\">人才</span> <span style=\"background-color: #FFFFFF\">和</span> <span style=\"background-color: #FFFFFF\">团队</span> <span style=\"background-color: #FFFFFF\">，</span> <span style=\"background-color: #FFFFFF\">创新</span> <span style=\"background-color: #FFFFFF\">成果</span> <span style=\"background-color: #FFFFFF\">研发</span> <span style=\"background-color: #FFFFFF\">的</span> <span style=\"background-color: #FFFFFF\">主持者</span> <span style=\"background-color: #FFFFFF\">或</span> <span style=\"background-color: #FFFFFF\">主要</span> <span style=\"background-color: #FFFFFF\">完成者</span> <span style=\"background-color: #FFFFFF\">（</span> <span style=\"background-color: #FFFFFF\">个人</span> <span style=\"background-color: #FFFFFF\">申报</span> <span style=\"background-color: #FFFFFF\">排名</span> <span style=\"background-color: #FFFFFF\">应</span> <span style=\"background-color: #FFFFFF\">在</span> <span style=\"background-color: #FFFFFF\">前</span> <span style=\"background-color: #FFFFFF\">五名</span> <span style=\"background-color: #FFFFFF\">，</span> <span style=\"background-color: #FFFFFF\">团队</span> <span style=\"background-color: #FFFFFF\">申报</span> <span style=\"background-color: #FFFFFF\">排名</span> <span style=\"background-color: #FFFFFF\">应</span> <span style=\"background-color: #FFFFFF\">在</span> <span style=\"background-color: #FFFFFF\">前</span> <span style=\"background-color: #FFFFFF\">七名</span> <span style=\"background-color: #FFFFFF\">）</span> <span style=\"background-color: #FFFFFF\">以及</span> <span style=\"background-color: #FFFFFF\">创新</span> <span style=\"background-color: #FFFFFF\">成果</span> <span style=\"background-color: #FFFFFF\">转化</span> <span style=\"background-color: #FFFFFF\">过程</span> <span style=\"background-color: #FFFFFF\">的</span> <span style=\"background-color: #FFFFFF\">主要</span> <span style=\"background-color: #FFFFFF\">指导者</span> <span style=\"background-color: #FFFFFF\">、</span> <span style=\"background-color: #FFFFFF\">参与者</span> <span style=\"background-color: #FFFFFF\">。</span><br><br>"
      ],
      "text/plain": [
       "<IPython.core.display.HTML object>"
      ]
     },
     "metadata": {},
     "output_type": "display_data"
    },
    {
     "data": {
      "text/html": [
       " <span style=\"background-color: #FFFFFF\"></span> <span style=\"background-color: #FFFFFF\">创新</span> <span style=\"background-color: #FFFFFF\">成果</span> <span style=\"background-color: #FFFFFF\">转化</span> <span style=\"background-color: #FFFFFF\">一年</span> <span style=\"background-color: #FFFFFF\">后</span> <span style=\"background-color: #FFFFFF\">的</span> <span style=\"background-color: #FFFFFF\">产值</span> <span style=\"background-color: #FFFFFF\">和</span> <span style=\"background-color: #FFFFFF\">净利润</span> <span style=\"background-color: #FFFFFF\">较</span> <span style=\"background-color: #FFC8FF\">上年</span> <span style=\"background-color: #FFFFFF\">增幅</span> <span style=\"background-color: #FFFFFF\">达</span> <span style=\"background-color: #FFFFFF\">20%</span> <span style=\"background-color: #FFFFFF\">、</span> <span style=\"background-color: #FFFFFF\">50%</span> <span style=\"background-color: #FFFFFF\">、</span> <span style=\"background-color: #FFFFFF\">100%</span> <span style=\"background-color: #FFFFFF\">和</span> <span style=\"background-color: #FFFFFF\">200%</span> <span style=\"background-color: #FFFFFF\">以上</span> <span style=\"background-color: #FFFFFF\">或</span> <span style=\"background-color: #FFFFFF\">新产品</span> <span style=\"background-color: #FFFFFF\">转化</span> <span style=\"background-color: #FFFFFF\">一年</span> <span style=\"background-color: #FFFFFF\">后</span> <span style=\"background-color: #FFFFFF\">实现</span> <span style=\"background-color: #FFFFFF\">产值</span> <span style=\"background-color: #FFFFFF\">200</span> <span style=\"background-color: #FFFFFF\">、</span> <span style=\"background-color: #FFFFFF\">1000</span> <span style=\"background-color: #FFFFFF\">、</span> <span style=\"background-color: #FFFFFF\">5000万元</span> <span style=\"background-color: #FFFFFF\">和</span> <span style=\"background-color: #FFFFFF\">1亿元</span> <span style=\"background-color: #FFFFFF\">以上</span> <span style=\"background-color: #FFFFFF\">且</span> <span style=\"background-color: #FFFFFF\">净利润</span> <span style=\"background-color: #FFFFFF\">10</span> <span style=\"background-color: #FFFFFF\">、</span> <span style=\"background-color: #FFFFFF\">50</span> <span style=\"background-color: #FFFFFF\">、</span> <span style=\"background-color: #FFFFFF\">300</span> <span style=\"background-color: #FFFFFF\">、</span> <span style=\"background-color: #FFFFFF\">500万元</span> <span style=\"background-color: #FFFFFF\">以上</span> <span style=\"background-color: #FFFFFF\">的</span> <span style=\"background-color: #FFFFFF\">，</span> <span style=\"background-color: #FFFFFF\">分</span> <span style=\"background-color: #FFFFFF\">10</span> <span style=\"background-color: #FFFFFF\">、</span> <span style=\"background-color: #FFFFFF\">20</span> <span style=\"background-color: #FFFFFF\">、</span> <span style=\"background-color: #FFFFFF\">40</span> <span style=\"background-color: #FFFFFF\">、</span> <span style=\"background-color: #FFFFFF\">70万元</span> <span style=\"background-color: #FFFFFF\">四档</span> <span style=\"background-color: #FFFFFF\">予以</span> <span style=\"background-color: #FFFFFF\">补助</span> <span style=\"background-color: #FFFFFF\">。</span><br><br>"
      ],
      "text/plain": [
       "<IPython.core.display.HTML object>"
      ]
     },
     "metadata": {},
     "output_type": "display_data"
    },
    {
     "data": {
      "text/html": [
       " <span style=\"background-color: #FFFFFF\"></span> <span style=\"background-color: #FFFFFF\">团队</span> <span style=\"background-color: #FFFFFF\">补助</span> <span style=\"background-color: #FFFFFF\">额度</span> <span style=\"background-color: #FFFFFF\">上浮</span> <span style=\"background-color: #FFFFFF\">50%</span> <span style=\"background-color: #FFFFFF\">，</span> <span style=\"background-color: #FFFFFF\">最高</span> <span style=\"background-color: #FFFFFF\">不</span> <span style=\"background-color: #FFFFFF\">超过</span> <span style=\"background-color: #FFFFFF\">100万。3</span> <span style=\"background-color: #FFFFFF\">.</span> <span style=\"background-color: #FFFFFF\">高层次</span> <span style=\"background-color: #FFFFFF\">人才</span> <span style=\"background-color: #FFFFFF\">创业</span> <span style=\"background-color: #FFFFFF\">扶持</span> <span style=\"background-color: #FFFFFF\">资金</span> <span style=\"background-color: #FFFFFF\">。</span> <span style=\"background-color: #FFFFFF\">重点</span> <span style=\"background-color: #FFFFFF\">扶持</span> <span style=\"background-color: #FFFFFF\">领</span> <span style=\"background-color: #FFFFFF\">办</span> <span style=\"background-color: #FFFFFF\">、</span> <span style=\"background-color: #FFFFFF\">创办</span> <span style=\"background-color: #FFFFFF\">、</span> <span style=\"background-color: #FFFFFF\">合资</span> <span style=\"background-color: #FFFFFF\">兴办</span> <span style=\"background-color: #FFFFFF\">经济</span> <span style=\"background-color: #FFFFFF\">实体</span> <span style=\"background-color: #FFFFFF\">或</span> <span style=\"background-color: #FFFFFF\">以</span> <span style=\"background-color: #FFFFFF\">技术</span> <span style=\"background-color: #FFFFFF\">入股</span> <span style=\"background-color: #FFFFFF\">等</span> <span style=\"background-color: #FFFFFF\">方式</span> <span style=\"background-color: #FFFFFF\">创业</span> <span style=\"background-color: #FFFFFF\">的</span> <span style=\"background-color: #FFFFFF\">高层次</span> <span style=\"background-color: #FFFFFF\">人才</span> <span style=\"background-color: #FFFFFF\">和</span> <span style=\"background-color: #FFFFFF\">团队</span> <span style=\"background-color: #FFFFFF\">。</span> <span style=\"background-color: #FFFFFF\">领</span> <span style=\"background-color: #FFFFFF\">办</span> <span style=\"background-color: #FFFFFF\">或</span> <span style=\"background-color: #FFFFFF\">独立</span> <span style=\"background-color: #FFFFFF\">创办</span> <span style=\"background-color: #FFFFFF\">企业</span> <span style=\"background-color: #FFFFFF\">的</span> <span style=\"background-color: #FFFFFF\">扶持</span> <span style=\"background-color: #FFFFFF\">额度</span> <span style=\"background-color: #FFFFFF\">为</span> <span style=\"background-color: #FFFFFF\">20万元</span> <span style=\"background-color: #FFFFFF\">，</span> <span style=\"background-color: #FFFFFF\">参与</span> <span style=\"background-color: #FFFFFF\">创办</span> <span style=\"background-color: #FFFFFF\">、</span> <span style=\"background-color: #FFFFFF\">合资</span> <span style=\"background-color: #FFFFFF\">兴办</span> <span style=\"background-color: #FFFFFF\">或</span> <span style=\"background-color: #FFFFFF\">技术</span> <span style=\"background-color: #FFFFFF\">入股</span> <span style=\"background-color: #FFFFFF\">企业</span> <span style=\"background-color: #FFFFFF\">的</span> <span style=\"background-color: #FFFFFF\">扶持</span> <span style=\"background-color: #FFFFFF\">额度</span> <span style=\"background-color: #FFFFFF\">为</span> <span style=\"background-color: #FFFFFF\">10万元</span> <span style=\"background-color: #FFFFFF\">。</span><br><br>"
      ],
      "text/plain": [
       "<IPython.core.display.HTML object>"
      ]
     },
     "metadata": {},
     "output_type": "display_data"
    },
    {
     "data": {
      "text/html": [
       " <span style=\"background-color: #FFFFFF\"></span> <span style=\"background-color: #FFFFFF\">其中</span> <span style=\"background-color: #FFFFFF\">，</span> <span style=\"background-color: #FFFFFF\">合伙</span> <span style=\"background-color: #FFFFFF\">创办</span> <span style=\"background-color: #FFFFFF\">企业</span> <span style=\"background-color: #FFFFFF\">的</span> <span style=\"background-color: #FFFFFF\">占股</span> <span style=\"background-color: #FFFFFF\">不少</span> <span style=\"background-color: #FFFFFF\">于</span> <span style=\"background-color: #FFFFFF\">20%</span> <span style=\"background-color: #FFFFFF\">，</span> <span style=\"background-color: #FFFFFF\">专利</span> <span style=\"background-color: #FFFFFF\">所有者</span> <span style=\"background-color: #FFFFFF\">身份</span> <span style=\"background-color: #FFFFFF\">入股</span> <span style=\"background-color: #FFFFFF\">的</span> <span style=\"background-color: #FFFFFF\">占</span> <span style=\"background-color: #FFFFFF\">比</span> <span style=\"background-color: #FFFFFF\">不少</span> <span style=\"background-color: #FFFFFF\">于</span> <span style=\"background-color: #FFFFFF\">10%</span> <span style=\"background-color: #FFFFFF\">。</span> <span style=\"background-color: #FFFFFF\">团队</span> <span style=\"background-color: #FFFFFF\">扶持</span> <span style=\"background-color: #FFFFFF\">额度</span> <span style=\"background-color: #FFFFFF\">上浮</span> <span style=\"background-color: #FFFFFF\">50%</span> <span style=\"background-color: #FFFFFF\">，</span> <span style=\"background-color: #FFFFFF\">最高</span> <span style=\"background-color: #FFFFFF\">不</span> <span style=\"background-color: #FFFFFF\">超过</span> <span style=\"background-color: #FFFFFF\">20万元</span> <span style=\"background-color: #FFFFFF\">。</span> <span style=\"background-color: #FFC8FF\">2018年</span> <span style=\"background-color: #FFFFFF\">高层次</span> <span style=\"background-color: #FFFFFF\">人才</span> <span style=\"background-color: #FFFFFF\">项目</span> <span style=\"background-color: #FFFFFF\">资金</span> <span style=\"background-color: #FFFFFF\">2370.29万元</span> <span style=\"background-color: #FFFFFF\">，</span> <span style=\"background-color: #FFFFFF\">其中</span> <span style=\"background-color: #FFFFFF\">支持</span> <span style=\"background-color: #FFFFFF\">中青年</span> <span style=\"background-color: #FFFFFF\">创新</span> <span style=\"background-color: #FFFFFF\">人才</span> <span style=\"background-color: #FFFFFF\">项目</span> <span style=\"background-color: #FFFFFF\">133项</span> <span style=\"background-color: #FFFFFF\">，</span> <span style=\"background-color: #FFFFFF\">安排</span> <span style=\"background-color: #FFFFFF\">资金</span> <span style=\"background-color: #FFFFFF\">1501万元</span> <span style=\"background-color: #FFFFFF\">，</span> <span style=\"background-color: #FFFFFF\">支持</span> <span style=\"background-color: #FFFFFF\">成果</span> <span style=\"background-color: #FFFFFF\">转化</span> <span style=\"background-color: #FFFFFF\">人才</span> <span style=\"background-color: #FFFFFF\">项目</span> <span style=\"background-color: #FFFFFF\">21项</span> <span style=\"background-color: #FFFFFF\">，</span> <span style=\"background-color: #FFFFFF\">安排</span> <span style=\"background-color: #FFFFFF\">资金</span> <span style=\"background-color: #FFFFFF\">630万</span> <span style=\"background-color: #FFFFFF\">，</span> <span style=\"background-color: #FFFFFF\">支持</span> <span style=\"background-color: #FFFFFF\">创业</span> <span style=\"background-color: #FFFFFF\">扶持</span> <span style=\"background-color: #FFFFFF\">人才</span> <span style=\"background-color: #FFFFFF\">项目</span> <span style=\"background-color: #FFFFFF\">220万元</span> <span style=\"background-color: #FFFFFF\">。</span><br><br>"
      ],
      "text/plain": [
       "<IPython.core.display.HTML object>"
      ]
     },
     "metadata": {},
     "output_type": "display_data"
    },
    {
     "data": {
      "text/html": [
       " <span style=\"background-color: #FFFFFF\"></span> <span style=\"background-color: #FFFFFF\">感谢</span> <span style=\"background-color: #FFFFFF\">你们</span> <span style=\"background-color: #FFFFFF\">对</span> <span style=\"background-color: #FFFFFF\">科技</span> <span style=\"background-color: #FFFFFF\">工作</span> <span style=\"background-color: #FFFFFF\">的</span> <span style=\"background-color: #FFFFFF\">重视</span> <span style=\"background-color: #FFFFFF\">和</span> <span style=\"background-color: #FFFFFF\">关心</span> <span style=\"background-color: #FFFFFF\">。</span> <span style=\"background-color: #FFFF00\">沈阳市科学技术局</span> <span style=\"background-color: #FFC8FF\">2019年4月25日</span> <span style=\"background-color: #FFFFFF\">（</span> <span style=\"background-color: #FFFFFF\">联系人</span> <span style=\"background-color: #FFFFFF\">：</span> <span style=\"background-color: #FF9696\">曹宇</span> <span style=\"background-color: #FFFFFF\">，</span> <span style=\"background-color: #FFFFFF\">联系</span> <span style=\"background-color: #FFFFFF\">电话</span> <span style=\"background-color: #FFFFFF\">：</span> <span style=\"background-color: #FFFFFF\">18940156226</span> <span style=\"background-color: #FFFFFF\">）。</span><br><br>"
      ],
      "text/plain": [
       "<IPython.core.display.HTML object>"
      ]
     },
     "metadata": {},
     "output_type": "display_data"
    },
    {
     "data": {
      "text/html": [
       "<span style=\"background-color: #FFC8C8\">当前数据 index: 1 </span><br><br>"
      ],
      "text/plain": [
       "<IPython.core.display.HTML object>"
      ]
     },
     "metadata": {},
     "output_type": "display_data"
    }
   ],
   "source": [
    "from IPython.display import clear_output as clear\n",
    "for i in range(len(data)):\n",
    "    title = data['title'][i]\n",
    "    \n",
    "    \n",
    "    segments = eval(data['segments'][i])\n",
    "    PER = eval(data['PER'][i])\n",
    "    LOC = eval(data['LOC'][i])\n",
    "    ORG = eval(data['ORG'][i])\n",
    "    TIME = eval(data['TIME'][i])\n",
    "    \n",
    "    \n",
    "    summary = 'None'\n",
    "    TongZhi = data['TongZhi'][i]\n",
    "    JieDu = data['JieDu'][i]\n",
    "    DaFu = data['DaFu'][i]\n",
    "    PiFu = data['PiFu'][i]\n",
    "\n",
    "    if TongZhi != 'None':\n",
    "        summary = TongZhi\n",
    "    elif JieDu != 'None':\n",
    "        summary = JieDu\n",
    "    elif DaFu != 'None':\n",
    "        summary = DaFu\n",
    "    elif PiFu != 'None':\n",
    "        summary = PiFu\n",
    "        \n",
    "    text = html_title(title, summary)\n",
    "    display(HTML(text))\n",
    "\n",
    "    for j in range(len(segments)):\n",
    "        text = html_content(segments[j], PER, LOC, ORG, TIME)\n",
    "        display(HTML(text))\n",
    "\n",
    "    index = html_index(i)\n",
    "    display(HTML(index))\n",
    "\n",
    "    inp = input('继续请按1，停止请按2')\n",
    "    \n",
    "    if inp == '1':\n",
    "        clear()\n",
    "        continue\n",
    "        \n",
    "    if inp == '2':\n",
    "        clear()\n",
    "        print('感谢使用!')\n",
    "        break"
   ]
  },
  {
   "cell_type": "code",
   "execution_count": null,
   "metadata": {},
   "outputs": [],
   "source": []
  }
 ],
 "metadata": {
  "kernelspec": {
   "display_name": "Python [conda env:tf] *",
   "language": "python",
   "name": "conda-env-tf-py"
  },
  "language_info": {
   "codemirror_mode": {
    "name": "ipython",
    "version": 3
   },
   "file_extension": ".py",
   "mimetype": "text/x-python",
   "name": "python",
   "nbconvert_exporter": "python",
   "pygments_lexer": "ipython3",
   "version": "3.6.5"
  }
 },
 "nbformat": 4,
 "nbformat_minor": 2
}
